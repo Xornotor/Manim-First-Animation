{
 "cells": [
  {
   "cell_type": "markdown",
   "metadata": {},
   "source": [
    "# Minha primeira animação em Manim!"
   ]
  },
  {
   "cell_type": "code",
   "execution_count": 14,
   "metadata": {},
   "outputs": [],
   "source": [
    "from manim import *"
   ]
  },
  {
   "cell_type": "code",
   "execution_count": 37,
   "metadata": {},
   "outputs": [
    {
     "data": {
      "text/html": [
       "<pre style=\"white-space:pre;overflow-x:auto;line-height:normal;font-family:Menlo,'DejaVu Sans Mono',consolas,'Courier New',monospace\"><span style=\"color: #7fbfbf; text-decoration-color: #7fbfbf\">[08/03/22 02:44:16] </span><span style=\"color: #008000; text-decoration-color: #008000\">INFO    </span> Animation <span style=\"color: #008000; text-decoration-color: #008000\">0</span> : Using cached data <span style=\"font-weight: bold\">(</span>hash :                           <a href=\"file://C:\\Users\\andre\\AppData\\Roaming\\Python\\Python39\\site-packages\\manim\\renderer\\cairo_renderer.py\" target=\"_blank\"><span style=\"color: #7f7f7f; text-decoration-color: #7f7f7f\">cairo_renderer.py</span></a><span style=\"color: #7f7f7f; text-decoration-color: #7f7f7f\">:</span><a href=\"file://C:\\Users\\andre\\AppData\\Roaming\\Python\\Python39\\site-packages\\manim\\renderer\\cairo_renderer.py#75\" target=\"_blank\"><span style=\"color: #7f7f7f; text-decoration-color: #7f7f7f\">75</span></a>\n",
       "<span style=\"color: #7fbfbf; text-decoration-color: #7fbfbf\">                    </span>         450974505_79651252_223132457<span style=\"font-weight: bold\">)</span>                                     <span style=\"color: #7f7f7f; text-decoration-color: #7f7f7f\">                    </span>\n",
       "</pre>\n"
      ],
      "text/plain": [
       "\u001b[2;36m[08/03/22 02:44:16]\u001b[0m\u001b[2;36m \u001b[0m\u001b[32mINFO    \u001b[0m Animation \u001b[32m0\u001b[0m : Using cached data \u001b[1m(\u001b[0mhash :                           \u001b]8;id=763601;file://C:\\Users\\andre\\AppData\\Roaming\\Python\\Python39\\site-packages\\manim\\renderer\\cairo_renderer.py\u001b\\\u001b[2mcairo_renderer.py\u001b[0m\u001b]8;;\u001b\\\u001b[2m:\u001b[0m\u001b]8;id=772652;file://C:\\Users\\andre\\AppData\\Roaming\\Python\\Python39\\site-packages\\manim\\renderer\\cairo_renderer.py#75\u001b\\\u001b[2m75\u001b[0m\u001b]8;;\u001b\\\n",
       "\u001b[2;36m                    \u001b[0m         450974505_79651252_223132457\u001b[1m)\u001b[0m                                     \u001b[2m                    \u001b[0m\n"
      ]
     },
     "metadata": {},
     "output_type": "display_data"
    },
    {
     "name": "stderr",
     "output_type": "stream",
     "text": [
      "                                                                                    \r"
     ]
    },
    {
     "data": {
      "text/html": [
       "<pre style=\"white-space:pre;overflow-x:auto;line-height:normal;font-family:Menlo,'DejaVu Sans Mono',consolas,'Courier New',monospace\"><span style=\"color: #7fbfbf; text-decoration-color: #7fbfbf\">[08/03/22 02:44:17] </span><span style=\"color: #008000; text-decoration-color: #008000\">INFO    </span> Animation <span style=\"color: #008000; text-decoration-color: #008000\">1</span> : Partial movie file written in                   <a href=\"file://C:\\Users\\andre\\AppData\\Roaming\\Python\\Python39\\site-packages\\manim\\scene\\scene_file_writer.py\" target=\"_blank\"><span style=\"color: #7f7f7f; text-decoration-color: #7f7f7f\">scene_file_writer.py</span></a><span style=\"color: #7f7f7f; text-decoration-color: #7f7f7f\">:</span><a href=\"file://C:\\Users\\andre\\AppData\\Roaming\\Python\\Python39\\site-packages\\manim\\scene\\scene_file_writer.py#514\" target=\"_blank\"><span style=\"color: #7f7f7f; text-decoration-color: #7f7f7f\">514</span></a>\n",
       "<span style=\"color: #7fbfbf; text-decoration-color: #7fbfbf\">                    </span>         <span style=\"color: #008000; text-decoration-color: #008000\">'E:\\andre\\Desktop\\testemanim\\media\\videos\\testemanim\\1080p60\\</span> <span style=\"color: #7f7f7f; text-decoration-color: #7f7f7f\">                        </span>\n",
       "<span style=\"color: #7fbfbf; text-decoration-color: #7fbfbf\">                    </span>         <span style=\"color: #008000; text-decoration-color: #008000\">partial_movie_files\\FullScene\\2788726626_345352296_1744059143</span> <span style=\"color: #7f7f7f; text-decoration-color: #7f7f7f\">                        </span>\n",
       "<span style=\"color: #7fbfbf; text-decoration-color: #7fbfbf\">                    </span>         <span style=\"color: #008000; text-decoration-color: #008000\">.mp4'</span>                                                         <span style=\"color: #7f7f7f; text-decoration-color: #7f7f7f\">                        </span>\n",
       "</pre>\n"
      ],
      "text/plain": [
       "\u001b[2;36m[08/03/22 02:44:17]\u001b[0m\u001b[2;36m \u001b[0m\u001b[32mINFO    \u001b[0m Animation \u001b[32m1\u001b[0m : Partial movie file written in                   \u001b]8;id=872287;file://C:\\Users\\andre\\AppData\\Roaming\\Python\\Python39\\site-packages\\manim\\scene\\scene_file_writer.py\u001b\\\u001b[2mscene_file_writer.py\u001b[0m\u001b]8;;\u001b\\\u001b[2m:\u001b[0m\u001b]8;id=529854;file://C:\\Users\\andre\\AppData\\Roaming\\Python\\Python39\\site-packages\\manim\\scene\\scene_file_writer.py#514\u001b\\\u001b[2m514\u001b[0m\u001b]8;;\u001b\\\n",
       "\u001b[2;36m                    \u001b[0m         \u001b[32m'E:\\andre\\Desktop\\testemanim\\media\\videos\\testemanim\\1080p60\\\u001b[0m \u001b[2m                        \u001b[0m\n",
       "\u001b[2;36m                    \u001b[0m         \u001b[32mpartial_movie_files\\FullScene\\2788726626_345352296_1744059143\u001b[0m \u001b[2m                        \u001b[0m\n",
       "\u001b[2;36m                    \u001b[0m         \u001b[32m.mp4'\u001b[0m                                                         \u001b[2m                        \u001b[0m\n"
      ]
     },
     "metadata": {},
     "output_type": "display_data"
    },
    {
     "data": {
      "text/html": [
       "<pre style=\"white-space:pre;overflow-x:auto;line-height:normal;font-family:Menlo,'DejaVu Sans Mono',consolas,'Courier New',monospace\"><span style=\"color: #7fbfbf; text-decoration-color: #7fbfbf\">                    </span><span style=\"color: #008000; text-decoration-color: #008000\">INFO    </span> Animation <span style=\"color: #008000; text-decoration-color: #008000\">2</span> : Using cached data <span style=\"font-weight: bold\">(</span>hash :                           <a href=\"file://C:\\Users\\andre\\AppData\\Roaming\\Python\\Python39\\site-packages\\manim\\renderer\\cairo_renderer.py\" target=\"_blank\"><span style=\"color: #7f7f7f; text-decoration-color: #7f7f7f\">cairo_renderer.py</span></a><span style=\"color: #7f7f7f; text-decoration-color: #7f7f7f\">:</span><a href=\"file://C:\\Users\\andre\\AppData\\Roaming\\Python\\Python39\\site-packages\\manim\\renderer\\cairo_renderer.py#75\" target=\"_blank\"><span style=\"color: #7f7f7f; text-decoration-color: #7f7f7f\">75</span></a>\n",
       "<span style=\"color: #7fbfbf; text-decoration-color: #7fbfbf\">                    </span>         34786186_2017174101_51149773<span style=\"font-weight: bold\">)</span>                                     <span style=\"color: #7f7f7f; text-decoration-color: #7f7f7f\">                    </span>\n",
       "</pre>\n"
      ],
      "text/plain": [
       "\u001b[2;36m                   \u001b[0m\u001b[2;36m \u001b[0m\u001b[32mINFO    \u001b[0m Animation \u001b[32m2\u001b[0m : Using cached data \u001b[1m(\u001b[0mhash :                           \u001b]8;id=728672;file://C:\\Users\\andre\\AppData\\Roaming\\Python\\Python39\\site-packages\\manim\\renderer\\cairo_renderer.py\u001b\\\u001b[2mcairo_renderer.py\u001b[0m\u001b]8;;\u001b\\\u001b[2m:\u001b[0m\u001b]8;id=71664;file://C:\\Users\\andre\\AppData\\Roaming\\Python\\Python39\\site-packages\\manim\\renderer\\cairo_renderer.py#75\u001b\\\u001b[2m75\u001b[0m\u001b]8;;\u001b\\\n",
       "\u001b[2;36m                    \u001b[0m         34786186_2017174101_51149773\u001b[1m)\u001b[0m                                     \u001b[2m                    \u001b[0m\n"
      ]
     },
     "metadata": {},
     "output_type": "display_data"
    },
    {
     "name": "stderr",
     "output_type": "stream",
     "text": [
      "                                                                                      \r"
     ]
    },
    {
     "data": {
      "text/html": [
       "<pre style=\"white-space:pre;overflow-x:auto;line-height:normal;font-family:Menlo,'DejaVu Sans Mono',consolas,'Courier New',monospace\"><span style=\"color: #7fbfbf; text-decoration-color: #7fbfbf\">                    </span><span style=\"color: #008000; text-decoration-color: #008000\">INFO    </span> Animation <span style=\"color: #008000; text-decoration-color: #008000\">3</span> : Using cached data <span style=\"font-weight: bold\">(</span>hash :                           <a href=\"file://C:\\Users\\andre\\AppData\\Roaming\\Python\\Python39\\site-packages\\manim\\renderer\\cairo_renderer.py\" target=\"_blank\"><span style=\"color: #7f7f7f; text-decoration-color: #7f7f7f\">cairo_renderer.py</span></a><span style=\"color: #7f7f7f; text-decoration-color: #7f7f7f\">:</span><a href=\"file://C:\\Users\\andre\\AppData\\Roaming\\Python\\Python39\\site-packages\\manim\\renderer\\cairo_renderer.py#75\" target=\"_blank\"><span style=\"color: #7f7f7f; text-decoration-color: #7f7f7f\">75</span></a>\n",
       "<span style=\"color: #7fbfbf; text-decoration-color: #7fbfbf\">                    </span>         34786186_987384875_4174018169<span style=\"font-weight: bold\">)</span>                                    <span style=\"color: #7f7f7f; text-decoration-color: #7f7f7f\">                    </span>\n",
       "</pre>\n"
      ],
      "text/plain": [
       "\u001b[2;36m                   \u001b[0m\u001b[2;36m \u001b[0m\u001b[32mINFO    \u001b[0m Animation \u001b[32m3\u001b[0m : Using cached data \u001b[1m(\u001b[0mhash :                           \u001b]8;id=688528;file://C:\\Users\\andre\\AppData\\Roaming\\Python\\Python39\\site-packages\\manim\\renderer\\cairo_renderer.py\u001b\\\u001b[2mcairo_renderer.py\u001b[0m\u001b]8;;\u001b\\\u001b[2m:\u001b[0m\u001b]8;id=623527;file://C:\\Users\\andre\\AppData\\Roaming\\Python\\Python39\\site-packages\\manim\\renderer\\cairo_renderer.py#75\u001b\\\u001b[2m75\u001b[0m\u001b]8;;\u001b\\\n",
       "\u001b[2;36m                    \u001b[0m         34786186_987384875_4174018169\u001b[1m)\u001b[0m                                    \u001b[2m                    \u001b[0m\n"
      ]
     },
     "metadata": {},
     "output_type": "display_data"
    },
    {
     "name": "stderr",
     "output_type": "stream",
     "text": [
      "                                                                                                              \r"
     ]
    },
    {
     "data": {
      "text/html": [
       "<pre style=\"white-space:pre;overflow-x:auto;line-height:normal;font-family:Menlo,'DejaVu Sans Mono',consolas,'Courier New',monospace\"><span style=\"color: #7fbfbf; text-decoration-color: #7fbfbf\">                    </span><span style=\"color: #008000; text-decoration-color: #008000\">INFO    </span> Animation <span style=\"color: #008000; text-decoration-color: #008000\">4</span> : Using cached data <span style=\"font-weight: bold\">(</span>hash :                           <a href=\"file://C:\\Users\\andre\\AppData\\Roaming\\Python\\Python39\\site-packages\\manim\\renderer\\cairo_renderer.py\" target=\"_blank\"><span style=\"color: #7f7f7f; text-decoration-color: #7f7f7f\">cairo_renderer.py</span></a><span style=\"color: #7f7f7f; text-decoration-color: #7f7f7f\">:</span><a href=\"file://C:\\Users\\andre\\AppData\\Roaming\\Python\\Python39\\site-packages\\manim\\renderer\\cairo_renderer.py#75\" target=\"_blank\"><span style=\"color: #7f7f7f; text-decoration-color: #7f7f7f\">75</span></a>\n",
       "<span style=\"color: #7fbfbf; text-decoration-color: #7fbfbf\">                    </span>         34786186_1076466279_380384482<span style=\"font-weight: bold\">)</span>                                    <span style=\"color: #7f7f7f; text-decoration-color: #7f7f7f\">                    </span>\n",
       "</pre>\n"
      ],
      "text/plain": [
       "\u001b[2;36m                   \u001b[0m\u001b[2;36m \u001b[0m\u001b[32mINFO    \u001b[0m Animation \u001b[32m4\u001b[0m : Using cached data \u001b[1m(\u001b[0mhash :                           \u001b]8;id=22183;file://C:\\Users\\andre\\AppData\\Roaming\\Python\\Python39\\site-packages\\manim\\renderer\\cairo_renderer.py\u001b\\\u001b[2mcairo_renderer.py\u001b[0m\u001b]8;;\u001b\\\u001b[2m:\u001b[0m\u001b]8;id=217948;file://C:\\Users\\andre\\AppData\\Roaming\\Python\\Python39\\site-packages\\manim\\renderer\\cairo_renderer.py#75\u001b\\\u001b[2m75\u001b[0m\u001b]8;;\u001b\\\n",
       "\u001b[2;36m                    \u001b[0m         34786186_1076466279_380384482\u001b[1m)\u001b[0m                                    \u001b[2m                    \u001b[0m\n"
      ]
     },
     "metadata": {},
     "output_type": "display_data"
    },
    {
     "data": {
      "text/html": [
       "<pre style=\"white-space:pre;overflow-x:auto;line-height:normal;font-family:Menlo,'DejaVu Sans Mono',consolas,'Courier New',monospace\"><span style=\"color: #7fbfbf; text-decoration-color: #7fbfbf\">[08/03/22 02:44:18] </span><span style=\"color: #008000; text-decoration-color: #008000\">INFO    </span> Animation <span style=\"color: #008000; text-decoration-color: #008000\">5</span> : Using cached data <span style=\"font-weight: bold\">(</span>hash :                           <a href=\"file://C:\\Users\\andre\\AppData\\Roaming\\Python\\Python39\\site-packages\\manim\\renderer\\cairo_renderer.py\" target=\"_blank\"><span style=\"color: #7f7f7f; text-decoration-color: #7f7f7f\">cairo_renderer.py</span></a><span style=\"color: #7f7f7f; text-decoration-color: #7f7f7f\">:</span><a href=\"file://C:\\Users\\andre\\AppData\\Roaming\\Python\\Python39\\site-packages\\manim\\renderer\\cairo_renderer.py#75\" target=\"_blank\"><span style=\"color: #7f7f7f; text-decoration-color: #7f7f7f\">75</span></a>\n",
       "<span style=\"color: #7fbfbf; text-decoration-color: #7fbfbf\">                    </span>         34786186_1962007188_3123409839<span style=\"font-weight: bold\">)</span>                                   <span style=\"color: #7f7f7f; text-decoration-color: #7f7f7f\">                    </span>\n",
       "</pre>\n"
      ],
      "text/plain": [
       "\u001b[2;36m[08/03/22 02:44:18]\u001b[0m\u001b[2;36m \u001b[0m\u001b[32mINFO    \u001b[0m Animation \u001b[32m5\u001b[0m : Using cached data \u001b[1m(\u001b[0mhash :                           \u001b]8;id=312388;file://C:\\Users\\andre\\AppData\\Roaming\\Python\\Python39\\site-packages\\manim\\renderer\\cairo_renderer.py\u001b\\\u001b[2mcairo_renderer.py\u001b[0m\u001b]8;;\u001b\\\u001b[2m:\u001b[0m\u001b]8;id=491261;file://C:\\Users\\andre\\AppData\\Roaming\\Python\\Python39\\site-packages\\manim\\renderer\\cairo_renderer.py#75\u001b\\\u001b[2m75\u001b[0m\u001b]8;;\u001b\\\n",
       "\u001b[2;36m                    \u001b[0m         34786186_1962007188_3123409839\u001b[1m)\u001b[0m                                   \u001b[2m                    \u001b[0m\n"
      ]
     },
     "metadata": {},
     "output_type": "display_data"
    },
    {
     "name": "stderr",
     "output_type": "stream",
     "text": [
      "                                                                                                                         \r"
     ]
    },
    {
     "data": {
      "text/html": [
       "<pre style=\"white-space:pre;overflow-x:auto;line-height:normal;font-family:Menlo,'DejaVu Sans Mono',consolas,'Courier New',monospace\"><span style=\"color: #7fbfbf; text-decoration-color: #7fbfbf\">                    </span><span style=\"color: #008000; text-decoration-color: #008000\">INFO    </span> Animation <span style=\"color: #008000; text-decoration-color: #008000\">6</span> : Using cached data <span style=\"font-weight: bold\">(</span>hash :                           <a href=\"file://C:\\Users\\andre\\AppData\\Roaming\\Python\\Python39\\site-packages\\manim\\renderer\\cairo_renderer.py\" target=\"_blank\"><span style=\"color: #7f7f7f; text-decoration-color: #7f7f7f\">cairo_renderer.py</span></a><span style=\"color: #7f7f7f; text-decoration-color: #7f7f7f\">:</span><a href=\"file://C:\\Users\\andre\\AppData\\Roaming\\Python\\Python39\\site-packages\\manim\\renderer\\cairo_renderer.py#75\" target=\"_blank\"><span style=\"color: #7f7f7f; text-decoration-color: #7f7f7f\">75</span></a>\n",
       "<span style=\"color: #7fbfbf; text-decoration-color: #7fbfbf\">                    </span>         34786186_3435546631_3874275190<span style=\"font-weight: bold\">)</span>                                   <span style=\"color: #7f7f7f; text-decoration-color: #7f7f7f\">                    </span>\n",
       "</pre>\n"
      ],
      "text/plain": [
       "\u001b[2;36m                   \u001b[0m\u001b[2;36m \u001b[0m\u001b[32mINFO    \u001b[0m Animation \u001b[32m6\u001b[0m : Using cached data \u001b[1m(\u001b[0mhash :                           \u001b]8;id=334203;file://C:\\Users\\andre\\AppData\\Roaming\\Python\\Python39\\site-packages\\manim\\renderer\\cairo_renderer.py\u001b\\\u001b[2mcairo_renderer.py\u001b[0m\u001b]8;;\u001b\\\u001b[2m:\u001b[0m\u001b]8;id=640208;file://C:\\Users\\andre\\AppData\\Roaming\\Python\\Python39\\site-packages\\manim\\renderer\\cairo_renderer.py#75\u001b\\\u001b[2m75\u001b[0m\u001b]8;;\u001b\\\n",
       "\u001b[2;36m                    \u001b[0m         34786186_3435546631_3874275190\u001b[1m)\u001b[0m                                   \u001b[2m                    \u001b[0m\n"
      ]
     },
     "metadata": {},
     "output_type": "display_data"
    },
    {
     "name": "stderr",
     "output_type": "stream",
     "text": [
      "                                                                        \r"
     ]
    },
    {
     "data": {
      "text/html": [
       "<pre style=\"white-space:pre;overflow-x:auto;line-height:normal;font-family:Menlo,'DejaVu Sans Mono',consolas,'Courier New',monospace\"><span style=\"color: #7fbfbf; text-decoration-color: #7fbfbf\">                    </span><span style=\"color: #008000; text-decoration-color: #008000\">INFO    </span> Animation <span style=\"color: #008000; text-decoration-color: #008000\">7</span> : Using cached data <span style=\"font-weight: bold\">(</span>hash :                           <a href=\"file://C:\\Users\\andre\\AppData\\Roaming\\Python\\Python39\\site-packages\\manim\\renderer\\cairo_renderer.py\" target=\"_blank\"><span style=\"color: #7f7f7f; text-decoration-color: #7f7f7f\">cairo_renderer.py</span></a><span style=\"color: #7f7f7f; text-decoration-color: #7f7f7f\">:</span><a href=\"file://C:\\Users\\andre\\AppData\\Roaming\\Python\\Python39\\site-packages\\manim\\renderer\\cairo_renderer.py#75\" target=\"_blank\"><span style=\"color: #7f7f7f; text-decoration-color: #7f7f7f\">75</span></a>\n",
       "<span style=\"color: #7fbfbf; text-decoration-color: #7fbfbf\">                    </span>         34786186_2358420384_1572414150<span style=\"font-weight: bold\">)</span>                                   <span style=\"color: #7f7f7f; text-decoration-color: #7f7f7f\">                    </span>\n",
       "</pre>\n"
      ],
      "text/plain": [
       "\u001b[2;36m                   \u001b[0m\u001b[2;36m \u001b[0m\u001b[32mINFO    \u001b[0m Animation \u001b[32m7\u001b[0m : Using cached data \u001b[1m(\u001b[0mhash :                           \u001b]8;id=876880;file://C:\\Users\\andre\\AppData\\Roaming\\Python\\Python39\\site-packages\\manim\\renderer\\cairo_renderer.py\u001b\\\u001b[2mcairo_renderer.py\u001b[0m\u001b]8;;\u001b\\\u001b[2m:\u001b[0m\u001b]8;id=983141;file://C:\\Users\\andre\\AppData\\Roaming\\Python\\Python39\\site-packages\\manim\\renderer\\cairo_renderer.py#75\u001b\\\u001b[2m75\u001b[0m\u001b]8;;\u001b\\\n",
       "\u001b[2;36m                    \u001b[0m         34786186_2358420384_1572414150\u001b[1m)\u001b[0m                                   \u001b[2m                    \u001b[0m\n"
      ]
     },
     "metadata": {},
     "output_type": "display_data"
    },
    {
     "data": {
      "text/html": [
       "<pre style=\"white-space:pre;overflow-x:auto;line-height:normal;font-family:Menlo,'DejaVu Sans Mono',consolas,'Courier New',monospace\"><span style=\"color: #7fbfbf; text-decoration-color: #7fbfbf\">[08/03/22 02:44:19] </span><span style=\"color: #008000; text-decoration-color: #008000\">INFO    </span> Animation <span style=\"color: #008000; text-decoration-color: #008000\">8</span> : Using cached data <span style=\"font-weight: bold\">(</span>hash :                           <a href=\"file://C:\\Users\\andre\\AppData\\Roaming\\Python\\Python39\\site-packages\\manim\\renderer\\cairo_renderer.py\" target=\"_blank\"><span style=\"color: #7f7f7f; text-decoration-color: #7f7f7f\">cairo_renderer.py</span></a><span style=\"color: #7f7f7f; text-decoration-color: #7f7f7f\">:</span><a href=\"file://C:\\Users\\andre\\AppData\\Roaming\\Python\\Python39\\site-packages\\manim\\renderer\\cairo_renderer.py#75\" target=\"_blank\"><span style=\"color: #7f7f7f; text-decoration-color: #7f7f7f\">75</span></a>\n",
       "<span style=\"color: #7fbfbf; text-decoration-color: #7fbfbf\">                    </span>         34786186_2244071234_2694614712<span style=\"font-weight: bold\">)</span>                                   <span style=\"color: #7f7f7f; text-decoration-color: #7f7f7f\">                    </span>\n",
       "</pre>\n"
      ],
      "text/plain": [
       "\u001b[2;36m[08/03/22 02:44:19]\u001b[0m\u001b[2;36m \u001b[0m\u001b[32mINFO    \u001b[0m Animation \u001b[32m8\u001b[0m : Using cached data \u001b[1m(\u001b[0mhash :                           \u001b]8;id=877423;file://C:\\Users\\andre\\AppData\\Roaming\\Python\\Python39\\site-packages\\manim\\renderer\\cairo_renderer.py\u001b\\\u001b[2mcairo_renderer.py\u001b[0m\u001b]8;;\u001b\\\u001b[2m:\u001b[0m\u001b]8;id=808263;file://C:\\Users\\andre\\AppData\\Roaming\\Python\\Python39\\site-packages\\manim\\renderer\\cairo_renderer.py#75\u001b\\\u001b[2m75\u001b[0m\u001b]8;;\u001b\\\n",
       "\u001b[2;36m                    \u001b[0m         34786186_2244071234_2694614712\u001b[1m)\u001b[0m                                   \u001b[2m                    \u001b[0m\n"
      ]
     },
     "metadata": {},
     "output_type": "display_data"
    },
    {
     "name": "stderr",
     "output_type": "stream",
     "text": [
      "                                                                                                                      \r"
     ]
    },
    {
     "data": {
      "text/html": [
       "<pre style=\"white-space:pre;overflow-x:auto;line-height:normal;font-family:Menlo,'DejaVu Sans Mono',consolas,'Courier New',monospace\"><span style=\"color: #7fbfbf; text-decoration-color: #7fbfbf\">[08/03/22 02:44:20] </span><span style=\"color: #008000; text-decoration-color: #008000\">INFO    </span> Animation <span style=\"color: #008000; text-decoration-color: #008000\">9</span> : Using cached data <span style=\"font-weight: bold\">(</span>hash :                           <a href=\"file://C:\\Users\\andre\\AppData\\Roaming\\Python\\Python39\\site-packages\\manim\\renderer\\cairo_renderer.py\" target=\"_blank\"><span style=\"color: #7f7f7f; text-decoration-color: #7f7f7f\">cairo_renderer.py</span></a><span style=\"color: #7f7f7f; text-decoration-color: #7f7f7f\">:</span><a href=\"file://C:\\Users\\andre\\AppData\\Roaming\\Python\\Python39\\site-packages\\manim\\renderer\\cairo_renderer.py#75\" target=\"_blank\"><span style=\"color: #7f7f7f; text-decoration-color: #7f7f7f\">75</span></a>\n",
       "<span style=\"color: #7fbfbf; text-decoration-color: #7fbfbf\">                    </span>         34786186_2465838085_2518773252<span style=\"font-weight: bold\">)</span>                                   <span style=\"color: #7f7f7f; text-decoration-color: #7f7f7f\">                    </span>\n",
       "</pre>\n"
      ],
      "text/plain": [
       "\u001b[2;36m[08/03/22 02:44:20]\u001b[0m\u001b[2;36m \u001b[0m\u001b[32mINFO    \u001b[0m Animation \u001b[32m9\u001b[0m : Using cached data \u001b[1m(\u001b[0mhash :                           \u001b]8;id=607254;file://C:\\Users\\andre\\AppData\\Roaming\\Python\\Python39\\site-packages\\manim\\renderer\\cairo_renderer.py\u001b\\\u001b[2mcairo_renderer.py\u001b[0m\u001b]8;;\u001b\\\u001b[2m:\u001b[0m\u001b]8;id=828297;file://C:\\Users\\andre\\AppData\\Roaming\\Python\\Python39\\site-packages\\manim\\renderer\\cairo_renderer.py#75\u001b\\\u001b[2m75\u001b[0m\u001b]8;;\u001b\\\n",
       "\u001b[2;36m                    \u001b[0m         34786186_2465838085_2518773252\u001b[1m)\u001b[0m                                   \u001b[2m                    \u001b[0m\n"
      ]
     },
     "metadata": {},
     "output_type": "display_data"
    },
    {
     "name": "stderr",
     "output_type": "stream",
     "text": [
      "                                                                                 \r"
     ]
    },
    {
     "data": {
      "text/html": [
       "<pre style=\"white-space:pre;overflow-x:auto;line-height:normal;font-family:Menlo,'DejaVu Sans Mono',consolas,'Courier New',monospace\"><span style=\"color: #7fbfbf; text-decoration-color: #7fbfbf\">                    </span><span style=\"color: #008000; text-decoration-color: #008000\">INFO    </span> Animation <span style=\"color: #008000; text-decoration-color: #008000\">10</span> : Using cached data <span style=\"font-weight: bold\">(</span>hash :                          <a href=\"file://C:\\Users\\andre\\AppData\\Roaming\\Python\\Python39\\site-packages\\manim\\renderer\\cairo_renderer.py\" target=\"_blank\"><span style=\"color: #7f7f7f; text-decoration-color: #7f7f7f\">cairo_renderer.py</span></a><span style=\"color: #7f7f7f; text-decoration-color: #7f7f7f\">:</span><a href=\"file://C:\\Users\\andre\\AppData\\Roaming\\Python\\Python39\\site-packages\\manim\\renderer\\cairo_renderer.py#75\" target=\"_blank\"><span style=\"color: #7f7f7f; text-decoration-color: #7f7f7f\">75</span></a>\n",
       "<span style=\"color: #7fbfbf; text-decoration-color: #7fbfbf\">                    </span>         34786186_4049113554_3487723691<span style=\"font-weight: bold\">)</span>                                   <span style=\"color: #7f7f7f; text-decoration-color: #7f7f7f\">                    </span>\n",
       "</pre>\n"
      ],
      "text/plain": [
       "\u001b[2;36m                   \u001b[0m\u001b[2;36m \u001b[0m\u001b[32mINFO    \u001b[0m Animation \u001b[32m10\u001b[0m : Using cached data \u001b[1m(\u001b[0mhash :                          \u001b]8;id=138316;file://C:\\Users\\andre\\AppData\\Roaming\\Python\\Python39\\site-packages\\manim\\renderer\\cairo_renderer.py\u001b\\\u001b[2mcairo_renderer.py\u001b[0m\u001b]8;;\u001b\\\u001b[2m:\u001b[0m\u001b]8;id=113878;file://C:\\Users\\andre\\AppData\\Roaming\\Python\\Python39\\site-packages\\manim\\renderer\\cairo_renderer.py#75\u001b\\\u001b[2m75\u001b[0m\u001b]8;;\u001b\\\n",
       "\u001b[2;36m                    \u001b[0m         34786186_4049113554_3487723691\u001b[1m)\u001b[0m                                   \u001b[2m                    \u001b[0m\n"
      ]
     },
     "metadata": {},
     "output_type": "display_data"
    },
    {
     "name": "stderr",
     "output_type": "stream",
     "text": [
      "                                                                                            \r"
     ]
    },
    {
     "data": {
      "text/html": [
       "<pre style=\"white-space:pre;overflow-x:auto;line-height:normal;font-family:Menlo,'DejaVu Sans Mono',consolas,'Courier New',monospace\"><span style=\"color: #7fbfbf; text-decoration-color: #7fbfbf\">[08/03/22 02:44:21] </span><span style=\"color: #008000; text-decoration-color: #008000\">INFO    </span> Animation <span style=\"color: #008000; text-decoration-color: #008000\">11</span> : Using cached data <span style=\"font-weight: bold\">(</span>hash :                          <a href=\"file://C:\\Users\\andre\\AppData\\Roaming\\Python\\Python39\\site-packages\\manim\\renderer\\cairo_renderer.py\" target=\"_blank\"><span style=\"color: #7f7f7f; text-decoration-color: #7f7f7f\">cairo_renderer.py</span></a><span style=\"color: #7f7f7f; text-decoration-color: #7f7f7f\">:</span><a href=\"file://C:\\Users\\andre\\AppData\\Roaming\\Python\\Python39\\site-packages\\manim\\renderer\\cairo_renderer.py#75\" target=\"_blank\"><span style=\"color: #7f7f7f; text-decoration-color: #7f7f7f\">75</span></a>\n",
       "<span style=\"color: #7fbfbf; text-decoration-color: #7fbfbf\">                    </span>         34786186_162863605_4287389507<span style=\"font-weight: bold\">)</span>                                    <span style=\"color: #7f7f7f; text-decoration-color: #7f7f7f\">                    </span>\n",
       "</pre>\n"
      ],
      "text/plain": [
       "\u001b[2;36m[08/03/22 02:44:21]\u001b[0m\u001b[2;36m \u001b[0m\u001b[32mINFO    \u001b[0m Animation \u001b[32m11\u001b[0m : Using cached data \u001b[1m(\u001b[0mhash :                          \u001b]8;id=656626;file://C:\\Users\\andre\\AppData\\Roaming\\Python\\Python39\\site-packages\\manim\\renderer\\cairo_renderer.py\u001b\\\u001b[2mcairo_renderer.py\u001b[0m\u001b]8;;\u001b\\\u001b[2m:\u001b[0m\u001b]8;id=477627;file://C:\\Users\\andre\\AppData\\Roaming\\Python\\Python39\\site-packages\\manim\\renderer\\cairo_renderer.py#75\u001b\\\u001b[2m75\u001b[0m\u001b]8;;\u001b\\\n",
       "\u001b[2;36m                    \u001b[0m         34786186_162863605_4287389507\u001b[1m)\u001b[0m                                    \u001b[2m                    \u001b[0m\n"
      ]
     },
     "metadata": {},
     "output_type": "display_data"
    },
    {
     "name": "stderr",
     "output_type": "stream",
     "text": [
      "                                                                                                                                                   \r"
     ]
    },
    {
     "data": {
      "text/html": [
       "<pre style=\"white-space:pre;overflow-x:auto;line-height:normal;font-family:Menlo,'DejaVu Sans Mono',consolas,'Courier New',monospace\"><span style=\"color: #7fbfbf; text-decoration-color: #7fbfbf\">[08/03/22 02:44:22] </span><span style=\"color: #008000; text-decoration-color: #008000\">INFO    </span> Animation <span style=\"color: #008000; text-decoration-color: #008000\">12</span> : Using cached data <span style=\"font-weight: bold\">(</span>hash :                          <a href=\"file://C:\\Users\\andre\\AppData\\Roaming\\Python\\Python39\\site-packages\\manim\\renderer\\cairo_renderer.py\" target=\"_blank\"><span style=\"color: #7f7f7f; text-decoration-color: #7f7f7f\">cairo_renderer.py</span></a><span style=\"color: #7f7f7f; text-decoration-color: #7f7f7f\">:</span><a href=\"file://C:\\Users\\andre\\AppData\\Roaming\\Python\\Python39\\site-packages\\manim\\renderer\\cairo_renderer.py#75\" target=\"_blank\"><span style=\"color: #7f7f7f; text-decoration-color: #7f7f7f\">75</span></a>\n",
       "<span style=\"color: #7fbfbf; text-decoration-color: #7fbfbf\">                    </span>         34786186_36632488_4049157280<span style=\"font-weight: bold\">)</span>                                     <span style=\"color: #7f7f7f; text-decoration-color: #7f7f7f\">                    </span>\n",
       "</pre>\n"
      ],
      "text/plain": [
       "\u001b[2;36m[08/03/22 02:44:22]\u001b[0m\u001b[2;36m \u001b[0m\u001b[32mINFO    \u001b[0m Animation \u001b[32m12\u001b[0m : Using cached data \u001b[1m(\u001b[0mhash :                          \u001b]8;id=742588;file://C:\\Users\\andre\\AppData\\Roaming\\Python\\Python39\\site-packages\\manim\\renderer\\cairo_renderer.py\u001b\\\u001b[2mcairo_renderer.py\u001b[0m\u001b]8;;\u001b\\\u001b[2m:\u001b[0m\u001b]8;id=852374;file://C:\\Users\\andre\\AppData\\Roaming\\Python\\Python39\\site-packages\\manim\\renderer\\cairo_renderer.py#75\u001b\\\u001b[2m75\u001b[0m\u001b]8;;\u001b\\\n",
       "\u001b[2;36m                    \u001b[0m         34786186_36632488_4049157280\u001b[1m)\u001b[0m                                     \u001b[2m                    \u001b[0m\n"
      ]
     },
     "metadata": {},
     "output_type": "display_data"
    },
    {
     "data": {
      "text/html": [
       "<pre style=\"white-space:pre;overflow-x:auto;line-height:normal;font-family:Menlo,'DejaVu Sans Mono',consolas,'Courier New',monospace\"><span style=\"color: #7fbfbf; text-decoration-color: #7fbfbf\">[08/03/22 02:44:23] </span><span style=\"color: #008000; text-decoration-color: #008000\">INFO    </span> Animation <span style=\"color: #008000; text-decoration-color: #008000\">13</span> : Using cached data <span style=\"font-weight: bold\">(</span>hash :                          <a href=\"file://C:\\Users\\andre\\AppData\\Roaming\\Python\\Python39\\site-packages\\manim\\renderer\\cairo_renderer.py\" target=\"_blank\"><span style=\"color: #7f7f7f; text-decoration-color: #7f7f7f\">cairo_renderer.py</span></a><span style=\"color: #7f7f7f; text-decoration-color: #7f7f7f\">:</span><a href=\"file://C:\\Users\\andre\\AppData\\Roaming\\Python\\Python39\\site-packages\\manim\\renderer\\cairo_renderer.py#75\" target=\"_blank\"><span style=\"color: #7f7f7f; text-decoration-color: #7f7f7f\">75</span></a>\n",
       "<span style=\"color: #7fbfbf; text-decoration-color: #7fbfbf\">                    </span>         34786186_1323023134_4176625339<span style=\"font-weight: bold\">)</span>                                   <span style=\"color: #7f7f7f; text-decoration-color: #7f7f7f\">                    </span>\n",
       "</pre>\n"
      ],
      "text/plain": [
       "\u001b[2;36m[08/03/22 02:44:23]\u001b[0m\u001b[2;36m \u001b[0m\u001b[32mINFO    \u001b[0m Animation \u001b[32m13\u001b[0m : Using cached data \u001b[1m(\u001b[0mhash :                          \u001b]8;id=580778;file://C:\\Users\\andre\\AppData\\Roaming\\Python\\Python39\\site-packages\\manim\\renderer\\cairo_renderer.py\u001b\\\u001b[2mcairo_renderer.py\u001b[0m\u001b]8;;\u001b\\\u001b[2m:\u001b[0m\u001b]8;id=151452;file://C:\\Users\\andre\\AppData\\Roaming\\Python\\Python39\\site-packages\\manim\\renderer\\cairo_renderer.py#75\u001b\\\u001b[2m75\u001b[0m\u001b]8;;\u001b\\\n",
       "\u001b[2;36m                    \u001b[0m         34786186_1323023134_4176625339\u001b[1m)\u001b[0m                                   \u001b[2m                    \u001b[0m\n"
      ]
     },
     "metadata": {},
     "output_type": "display_data"
    },
    {
     "name": "stderr",
     "output_type": "stream",
     "text": [
      "                                                                                         \r"
     ]
    },
    {
     "data": {
      "text/html": [
       "<pre style=\"white-space:pre;overflow-x:auto;line-height:normal;font-family:Menlo,'DejaVu Sans Mono',consolas,'Courier New',monospace\"><span style=\"color: #7fbfbf; text-decoration-color: #7fbfbf\">                    </span><span style=\"color: #008000; text-decoration-color: #008000\">INFO    </span> Animation <span style=\"color: #008000; text-decoration-color: #008000\">14</span> : Using cached data <span style=\"font-weight: bold\">(</span>hash :                          <a href=\"file://C:\\Users\\andre\\AppData\\Roaming\\Python\\Python39\\site-packages\\manim\\renderer\\cairo_renderer.py\" target=\"_blank\"><span style=\"color: #7f7f7f; text-decoration-color: #7f7f7f\">cairo_renderer.py</span></a><span style=\"color: #7f7f7f; text-decoration-color: #7f7f7f\">:</span><a href=\"file://C:\\Users\\andre\\AppData\\Roaming\\Python\\Python39\\site-packages\\manim\\renderer\\cairo_renderer.py#75\" target=\"_blank\"><span style=\"color: #7f7f7f; text-decoration-color: #7f7f7f\">75</span></a>\n",
       "<span style=\"color: #7fbfbf; text-decoration-color: #7fbfbf\">                    </span>         34786186_1156353667_2626664035<span style=\"font-weight: bold\">)</span>                                   <span style=\"color: #7f7f7f; text-decoration-color: #7f7f7f\">                    </span>\n",
       "</pre>\n"
      ],
      "text/plain": [
       "\u001b[2;36m                   \u001b[0m\u001b[2;36m \u001b[0m\u001b[32mINFO    \u001b[0m Animation \u001b[32m14\u001b[0m : Using cached data \u001b[1m(\u001b[0mhash :                          \u001b]8;id=60231;file://C:\\Users\\andre\\AppData\\Roaming\\Python\\Python39\\site-packages\\manim\\renderer\\cairo_renderer.py\u001b\\\u001b[2mcairo_renderer.py\u001b[0m\u001b]8;;\u001b\\\u001b[2m:\u001b[0m\u001b]8;id=973103;file://C:\\Users\\andre\\AppData\\Roaming\\Python\\Python39\\site-packages\\manim\\renderer\\cairo_renderer.py#75\u001b\\\u001b[2m75\u001b[0m\u001b]8;;\u001b\\\n",
       "\u001b[2;36m                    \u001b[0m         34786186_1156353667_2626664035\u001b[1m)\u001b[0m                                   \u001b[2m                    \u001b[0m\n"
      ]
     },
     "metadata": {},
     "output_type": "display_data"
    },
    {
     "name": "stderr",
     "output_type": "stream",
     "text": [
      "                                                                                                                    \r"
     ]
    },
    {
     "data": {
      "text/html": [
       "<pre style=\"white-space:pre;overflow-x:auto;line-height:normal;font-family:Menlo,'DejaVu Sans Mono',consolas,'Courier New',monospace\"><span style=\"color: #7fbfbf; text-decoration-color: #7fbfbf\">[08/03/22 02:44:24] </span><span style=\"color: #008000; text-decoration-color: #008000\">INFO    </span> Animation <span style=\"color: #008000; text-decoration-color: #008000\">15</span> : Partial movie file written in                  <a href=\"file://C:\\Users\\andre\\AppData\\Roaming\\Python\\Python39\\site-packages\\manim\\scene\\scene_file_writer.py\" target=\"_blank\"><span style=\"color: #7f7f7f; text-decoration-color: #7f7f7f\">scene_file_writer.py</span></a><span style=\"color: #7f7f7f; text-decoration-color: #7f7f7f\">:</span><a href=\"file://C:\\Users\\andre\\AppData\\Roaming\\Python\\Python39\\site-packages\\manim\\scene\\scene_file_writer.py#514\" target=\"_blank\"><span style=\"color: #7f7f7f; text-decoration-color: #7f7f7f\">514</span></a>\n",
       "<span style=\"color: #7fbfbf; text-decoration-color: #7fbfbf\">                    </span>         <span style=\"color: #008000; text-decoration-color: #008000\">'E:\\andre\\Desktop\\testemanim\\media\\videos\\testemanim\\1080p60\\</span> <span style=\"color: #7f7f7f; text-decoration-color: #7f7f7f\">                        </span>\n",
       "<span style=\"color: #7fbfbf; text-decoration-color: #7fbfbf\">                    </span>         <span style=\"color: #008000; text-decoration-color: #008000\">partial_movie_files\\FullScene\\34786186_4259136455_2983879711.</span> <span style=\"color: #7f7f7f; text-decoration-color: #7f7f7f\">                        </span>\n",
       "<span style=\"color: #7fbfbf; text-decoration-color: #7fbfbf\">                    </span>         <span style=\"color: #008000; text-decoration-color: #008000\">mp4'</span>                                                          <span style=\"color: #7f7f7f; text-decoration-color: #7f7f7f\">                        </span>\n",
       "</pre>\n"
      ],
      "text/plain": [
       "\u001b[2;36m[08/03/22 02:44:24]\u001b[0m\u001b[2;36m \u001b[0m\u001b[32mINFO    \u001b[0m Animation \u001b[32m15\u001b[0m : Partial movie file written in                  \u001b]8;id=666834;file://C:\\Users\\andre\\AppData\\Roaming\\Python\\Python39\\site-packages\\manim\\scene\\scene_file_writer.py\u001b\\\u001b[2mscene_file_writer.py\u001b[0m\u001b]8;;\u001b\\\u001b[2m:\u001b[0m\u001b]8;id=68252;file://C:\\Users\\andre\\AppData\\Roaming\\Python\\Python39\\site-packages\\manim\\scene\\scene_file_writer.py#514\u001b\\\u001b[2m514\u001b[0m\u001b]8;;\u001b\\\n",
       "\u001b[2;36m                    \u001b[0m         \u001b[32m'E:\\andre\\Desktop\\testemanim\\media\\videos\\testemanim\\1080p60\\\u001b[0m \u001b[2m                        \u001b[0m\n",
       "\u001b[2;36m                    \u001b[0m         \u001b[32mpartial_movie_files\\FullScene\\34786186_4259136455_2983879711.\u001b[0m \u001b[2m                        \u001b[0m\n",
       "\u001b[2;36m                    \u001b[0m         \u001b[32mmp4'\u001b[0m                                                          \u001b[2m                        \u001b[0m\n"
      ]
     },
     "metadata": {},
     "output_type": "display_data"
    },
    {
     "data": {
      "text/html": [
       "<pre style=\"white-space:pre;overflow-x:auto;line-height:normal;font-family:Menlo,'DejaVu Sans Mono',consolas,'Courier New',monospace\"><span style=\"color: #7fbfbf; text-decoration-color: #7fbfbf\">[08/03/22 02:44:25] </span><span style=\"color: #008000; text-decoration-color: #008000\">INFO    </span> Animation <span style=\"color: #008000; text-decoration-color: #008000\">16</span> : Using cached data <span style=\"font-weight: bold\">(</span>hash :                          <a href=\"file://C:\\Users\\andre\\AppData\\Roaming\\Python\\Python39\\site-packages\\manim\\renderer\\cairo_renderer.py\" target=\"_blank\"><span style=\"color: #7f7f7f; text-decoration-color: #7f7f7f\">cairo_renderer.py</span></a><span style=\"color: #7f7f7f; text-decoration-color: #7f7f7f\">:</span><a href=\"file://C:\\Users\\andre\\AppData\\Roaming\\Python\\Python39\\site-packages\\manim\\renderer\\cairo_renderer.py#75\" target=\"_blank\"><span style=\"color: #7f7f7f; text-decoration-color: #7f7f7f\">75</span></a>\n",
       "<span style=\"color: #7fbfbf; text-decoration-color: #7fbfbf\">                    </span>         34786186_2904837704_3464247637<span style=\"font-weight: bold\">)</span>                                   <span style=\"color: #7f7f7f; text-decoration-color: #7f7f7f\">                    </span>\n",
       "</pre>\n"
      ],
      "text/plain": [
       "\u001b[2;36m[08/03/22 02:44:25]\u001b[0m\u001b[2;36m \u001b[0m\u001b[32mINFO    \u001b[0m Animation \u001b[32m16\u001b[0m : Using cached data \u001b[1m(\u001b[0mhash :                          \u001b]8;id=566893;file://C:\\Users\\andre\\AppData\\Roaming\\Python\\Python39\\site-packages\\manim\\renderer\\cairo_renderer.py\u001b\\\u001b[2mcairo_renderer.py\u001b[0m\u001b]8;;\u001b\\\u001b[2m:\u001b[0m\u001b]8;id=596546;file://C:\\Users\\andre\\AppData\\Roaming\\Python\\Python39\\site-packages\\manim\\renderer\\cairo_renderer.py#75\u001b\\\u001b[2m75\u001b[0m\u001b]8;;\u001b\\\n",
       "\u001b[2;36m                    \u001b[0m         34786186_2904837704_3464247637\u001b[1m)\u001b[0m                                   \u001b[2m                    \u001b[0m\n"
      ]
     },
     "metadata": {},
     "output_type": "display_data"
    },
    {
     "name": "stderr",
     "output_type": "stream",
     "text": [
      "                                                                                               \r"
     ]
    },
    {
     "data": {
      "text/html": [
       "<pre style=\"white-space:pre;overflow-x:auto;line-height:normal;font-family:Menlo,'DejaVu Sans Mono',consolas,'Courier New',monospace\"><span style=\"color: #7fbfbf; text-decoration-color: #7fbfbf\">                    </span><span style=\"color: #008000; text-decoration-color: #008000\">INFO    </span> Animation <span style=\"color: #008000; text-decoration-color: #008000\">17</span> : Using cached data <span style=\"font-weight: bold\">(</span>hash :                          <a href=\"file://C:\\Users\\andre\\AppData\\Roaming\\Python\\Python39\\site-packages\\manim\\renderer\\cairo_renderer.py\" target=\"_blank\"><span style=\"color: #7f7f7f; text-decoration-color: #7f7f7f\">cairo_renderer.py</span></a><span style=\"color: #7f7f7f; text-decoration-color: #7f7f7f\">:</span><a href=\"file://C:\\Users\\andre\\AppData\\Roaming\\Python\\Python39\\site-packages\\manim\\renderer\\cairo_renderer.py#75\" target=\"_blank\"><span style=\"color: #7f7f7f; text-decoration-color: #7f7f7f\">75</span></a>\n",
       "<span style=\"color: #7fbfbf; text-decoration-color: #7fbfbf\">                    </span>         34786186_3462427597_3879010712<span style=\"font-weight: bold\">)</span>                                   <span style=\"color: #7f7f7f; text-decoration-color: #7f7f7f\">                    </span>\n",
       "</pre>\n"
      ],
      "text/plain": [
       "\u001b[2;36m                   \u001b[0m\u001b[2;36m \u001b[0m\u001b[32mINFO    \u001b[0m Animation \u001b[32m17\u001b[0m : Using cached data \u001b[1m(\u001b[0mhash :                          \u001b]8;id=368064;file://C:\\Users\\andre\\AppData\\Roaming\\Python\\Python39\\site-packages\\manim\\renderer\\cairo_renderer.py\u001b\\\u001b[2mcairo_renderer.py\u001b[0m\u001b]8;;\u001b\\\u001b[2m:\u001b[0m\u001b]8;id=307894;file://C:\\Users\\andre\\AppData\\Roaming\\Python\\Python39\\site-packages\\manim\\renderer\\cairo_renderer.py#75\u001b\\\u001b[2m75\u001b[0m\u001b]8;;\u001b\\\n",
       "\u001b[2;36m                    \u001b[0m         34786186_3462427597_3879010712\u001b[1m)\u001b[0m                                   \u001b[2m                    \u001b[0m\n"
      ]
     },
     "metadata": {},
     "output_type": "display_data"
    },
    {
     "name": "stderr",
     "output_type": "stream",
     "text": [
      "                                                                                                          \r"
     ]
    },
    {
     "data": {
      "text/html": [
       "<pre style=\"white-space:pre;overflow-x:auto;line-height:normal;font-family:Menlo,'DejaVu Sans Mono',consolas,'Courier New',monospace\"><span style=\"color: #7fbfbf; text-decoration-color: #7fbfbf\">                    </span><span style=\"color: #008000; text-decoration-color: #008000\">INFO    </span> Animation <span style=\"color: #008000; text-decoration-color: #008000\">18</span> : Using cached data <span style=\"font-weight: bold\">(</span>hash :                          <a href=\"file://C:\\Users\\andre\\AppData\\Roaming\\Python\\Python39\\site-packages\\manim\\renderer\\cairo_renderer.py\" target=\"_blank\"><span style=\"color: #7f7f7f; text-decoration-color: #7f7f7f\">cairo_renderer.py</span></a><span style=\"color: #7f7f7f; text-decoration-color: #7f7f7f\">:</span><a href=\"file://C:\\Users\\andre\\AppData\\Roaming\\Python\\Python39\\site-packages\\manim\\renderer\\cairo_renderer.py#75\" target=\"_blank\"><span style=\"color: #7f7f7f; text-decoration-color: #7f7f7f\">75</span></a>\n",
       "<span style=\"color: #7fbfbf; text-decoration-color: #7fbfbf\">                    </span>         34786186_2292429055_3143825591<span style=\"font-weight: bold\">)</span>                                   <span style=\"color: #7f7f7f; text-decoration-color: #7f7f7f\">                    </span>\n",
       "</pre>\n"
      ],
      "text/plain": [
       "\u001b[2;36m                   \u001b[0m\u001b[2;36m \u001b[0m\u001b[32mINFO    \u001b[0m Animation \u001b[32m18\u001b[0m : Using cached data \u001b[1m(\u001b[0mhash :                          \u001b]8;id=103791;file://C:\\Users\\andre\\AppData\\Roaming\\Python\\Python39\\site-packages\\manim\\renderer\\cairo_renderer.py\u001b\\\u001b[2mcairo_renderer.py\u001b[0m\u001b]8;;\u001b\\\u001b[2m:\u001b[0m\u001b]8;id=9477;file://C:\\Users\\andre\\AppData\\Roaming\\Python\\Python39\\site-packages\\manim\\renderer\\cairo_renderer.py#75\u001b\\\u001b[2m75\u001b[0m\u001b]8;;\u001b\\\n",
       "\u001b[2;36m                    \u001b[0m         34786186_2292429055_3143825591\u001b[1m)\u001b[0m                                   \u001b[2m                    \u001b[0m\n"
      ]
     },
     "metadata": {},
     "output_type": "display_data"
    },
    {
     "data": {
      "text/html": [
       "<pre style=\"white-space:pre;overflow-x:auto;line-height:normal;font-family:Menlo,'DejaVu Sans Mono',consolas,'Courier New',monospace\"><span style=\"color: #7fbfbf; text-decoration-color: #7fbfbf\">[08/03/22 02:44:26] </span><span style=\"color: #008000; text-decoration-color: #008000\">INFO    </span> Animation <span style=\"color: #008000; text-decoration-color: #008000\">19</span> : Using cached data <span style=\"font-weight: bold\">(</span>hash :                          <a href=\"file://C:\\Users\\andre\\AppData\\Roaming\\Python\\Python39\\site-packages\\manim\\renderer\\cairo_renderer.py\" target=\"_blank\"><span style=\"color: #7f7f7f; text-decoration-color: #7f7f7f\">cairo_renderer.py</span></a><span style=\"color: #7f7f7f; text-decoration-color: #7f7f7f\">:</span><a href=\"file://C:\\Users\\andre\\AppData\\Roaming\\Python\\Python39\\site-packages\\manim\\renderer\\cairo_renderer.py#75\" target=\"_blank\"><span style=\"color: #7f7f7f; text-decoration-color: #7f7f7f\">75</span></a>\n",
       "<span style=\"color: #7fbfbf; text-decoration-color: #7fbfbf\">                    </span>         34786186_4137030814_3857174752<span style=\"font-weight: bold\">)</span>                                   <span style=\"color: #7f7f7f; text-decoration-color: #7f7f7f\">                    </span>\n",
       "</pre>\n"
      ],
      "text/plain": [
       "\u001b[2;36m[08/03/22 02:44:26]\u001b[0m\u001b[2;36m \u001b[0m\u001b[32mINFO    \u001b[0m Animation \u001b[32m19\u001b[0m : Using cached data \u001b[1m(\u001b[0mhash :                          \u001b]8;id=982618;file://C:\\Users\\andre\\AppData\\Roaming\\Python\\Python39\\site-packages\\manim\\renderer\\cairo_renderer.py\u001b\\\u001b[2mcairo_renderer.py\u001b[0m\u001b]8;;\u001b\\\u001b[2m:\u001b[0m\u001b]8;id=849727;file://C:\\Users\\andre\\AppData\\Roaming\\Python\\Python39\\site-packages\\manim\\renderer\\cairo_renderer.py#75\u001b\\\u001b[2m75\u001b[0m\u001b]8;;\u001b\\\n",
       "\u001b[2;36m                    \u001b[0m         34786186_4137030814_3857174752\u001b[1m)\u001b[0m                                   \u001b[2m                    \u001b[0m\n"
      ]
     },
     "metadata": {},
     "output_type": "display_data"
    },
    {
     "name": "stderr",
     "output_type": "stream",
     "text": [
      "                                                                                                                        \r"
     ]
    },
    {
     "data": {
      "text/html": [
       "<pre style=\"white-space:pre;overflow-x:auto;line-height:normal;font-family:Menlo,'DejaVu Sans Mono',consolas,'Courier New',monospace\"><span style=\"color: #7fbfbf; text-decoration-color: #7fbfbf\">[08/03/22 02:44:28] </span><span style=\"color: #008000; text-decoration-color: #008000\">INFO    </span> Animation <span style=\"color: #008000; text-decoration-color: #008000\">20</span> : Partial movie file written in                  <a href=\"file://C:\\Users\\andre\\AppData\\Roaming\\Python\\Python39\\site-packages\\manim\\scene\\scene_file_writer.py\" target=\"_blank\"><span style=\"color: #7f7f7f; text-decoration-color: #7f7f7f\">scene_file_writer.py</span></a><span style=\"color: #7f7f7f; text-decoration-color: #7f7f7f\">:</span><a href=\"file://C:\\Users\\andre\\AppData\\Roaming\\Python\\Python39\\site-packages\\manim\\scene\\scene_file_writer.py#514\" target=\"_blank\"><span style=\"color: #7f7f7f; text-decoration-color: #7f7f7f\">514</span></a>\n",
       "<span style=\"color: #7fbfbf; text-decoration-color: #7fbfbf\">                    </span>         <span style=\"color: #008000; text-decoration-color: #008000\">'E:\\andre\\Desktop\\testemanim\\media\\videos\\testemanim\\1080p60\\</span> <span style=\"color: #7f7f7f; text-decoration-color: #7f7f7f\">                        </span>\n",
       "<span style=\"color: #7fbfbf; text-decoration-color: #7fbfbf\">                    </span>         <span style=\"color: #008000; text-decoration-color: #008000\">partial_movie_files\\FullScene\\34786186_1487081763_897544487.m</span> <span style=\"color: #7f7f7f; text-decoration-color: #7f7f7f\">                        </span>\n",
       "<span style=\"color: #7fbfbf; text-decoration-color: #7fbfbf\">                    </span>         <span style=\"color: #008000; text-decoration-color: #008000\">p4'</span>                                                           <span style=\"color: #7f7f7f; text-decoration-color: #7f7f7f\">                        </span>\n",
       "</pre>\n"
      ],
      "text/plain": [
       "\u001b[2;36m[08/03/22 02:44:28]\u001b[0m\u001b[2;36m \u001b[0m\u001b[32mINFO    \u001b[0m Animation \u001b[32m20\u001b[0m : Partial movie file written in                  \u001b]8;id=669480;file://C:\\Users\\andre\\AppData\\Roaming\\Python\\Python39\\site-packages\\manim\\scene\\scene_file_writer.py\u001b\\\u001b[2mscene_file_writer.py\u001b[0m\u001b]8;;\u001b\\\u001b[2m:\u001b[0m\u001b]8;id=720147;file://C:\\Users\\andre\\AppData\\Roaming\\Python\\Python39\\site-packages\\manim\\scene\\scene_file_writer.py#514\u001b\\\u001b[2m514\u001b[0m\u001b]8;;\u001b\\\n",
       "\u001b[2;36m                    \u001b[0m         \u001b[32m'E:\\andre\\Desktop\\testemanim\\media\\videos\\testemanim\\1080p60\\\u001b[0m \u001b[2m                        \u001b[0m\n",
       "\u001b[2;36m                    \u001b[0m         \u001b[32mpartial_movie_files\\FullScene\\34786186_1487081763_897544487.m\u001b[0m \u001b[2m                        \u001b[0m\n",
       "\u001b[2;36m                    \u001b[0m         \u001b[32mp4'\u001b[0m                                                           \u001b[2m                        \u001b[0m\n"
      ]
     },
     "metadata": {},
     "output_type": "display_data"
    },
    {
     "name": "stderr",
     "output_type": "stream",
     "text": [
      "                                                                                                                                 \r"
     ]
    },
    {
     "data": {
      "text/html": [
       "<pre style=\"white-space:pre;overflow-x:auto;line-height:normal;font-family:Menlo,'DejaVu Sans Mono',consolas,'Courier New',monospace\"><span style=\"color: #7fbfbf; text-decoration-color: #7fbfbf\">[08/03/22 02:44:30] </span><span style=\"color: #008000; text-decoration-color: #008000\">INFO    </span> Animation <span style=\"color: #008000; text-decoration-color: #008000\">21</span> : Partial movie file written in                  <a href=\"file://C:\\Users\\andre\\AppData\\Roaming\\Python\\Python39\\site-packages\\manim\\scene\\scene_file_writer.py\" target=\"_blank\"><span style=\"color: #7f7f7f; text-decoration-color: #7f7f7f\">scene_file_writer.py</span></a><span style=\"color: #7f7f7f; text-decoration-color: #7f7f7f\">:</span><a href=\"file://C:\\Users\\andre\\AppData\\Roaming\\Python\\Python39\\site-packages\\manim\\scene\\scene_file_writer.py#514\" target=\"_blank\"><span style=\"color: #7f7f7f; text-decoration-color: #7f7f7f\">514</span></a>\n",
       "<span style=\"color: #7fbfbf; text-decoration-color: #7fbfbf\">                    </span>         <span style=\"color: #008000; text-decoration-color: #008000\">'E:\\andre\\Desktop\\testemanim\\media\\videos\\testemanim\\1080p60\\</span> <span style=\"color: #7f7f7f; text-decoration-color: #7f7f7f\">                        </span>\n",
       "<span style=\"color: #7fbfbf; text-decoration-color: #7fbfbf\">                    </span>         <span style=\"color: #008000; text-decoration-color: #008000\">partial_movie_files\\FullScene\\34786186_2791263106_785319722.m</span> <span style=\"color: #7f7f7f; text-decoration-color: #7f7f7f\">                        </span>\n",
       "<span style=\"color: #7fbfbf; text-decoration-color: #7fbfbf\">                    </span>         <span style=\"color: #008000; text-decoration-color: #008000\">p4'</span>                                                           <span style=\"color: #7f7f7f; text-decoration-color: #7f7f7f\">                        </span>\n",
       "</pre>\n"
      ],
      "text/plain": [
       "\u001b[2;36m[08/03/22 02:44:30]\u001b[0m\u001b[2;36m \u001b[0m\u001b[32mINFO    \u001b[0m Animation \u001b[32m21\u001b[0m : Partial movie file written in                  \u001b]8;id=885339;file://C:\\Users\\andre\\AppData\\Roaming\\Python\\Python39\\site-packages\\manim\\scene\\scene_file_writer.py\u001b\\\u001b[2mscene_file_writer.py\u001b[0m\u001b]8;;\u001b\\\u001b[2m:\u001b[0m\u001b]8;id=6201;file://C:\\Users\\andre\\AppData\\Roaming\\Python\\Python39\\site-packages\\manim\\scene\\scene_file_writer.py#514\u001b\\\u001b[2m514\u001b[0m\u001b]8;;\u001b\\\n",
       "\u001b[2;36m                    \u001b[0m         \u001b[32m'E:\\andre\\Desktop\\testemanim\\media\\videos\\testemanim\\1080p60\\\u001b[0m \u001b[2m                        \u001b[0m\n",
       "\u001b[2;36m                    \u001b[0m         \u001b[32mpartial_movie_files\\FullScene\\34786186_2791263106_785319722.m\u001b[0m \u001b[2m                        \u001b[0m\n",
       "\u001b[2;36m                    \u001b[0m         \u001b[32mp4'\u001b[0m                                                           \u001b[2m                        \u001b[0m\n"
      ]
     },
     "metadata": {},
     "output_type": "display_data"
    },
    {
     "name": "stderr",
     "output_type": "stream",
     "text": [
      "                                                                                                                                                                               \r"
     ]
    },
    {
     "data": {
      "text/html": [
       "<pre style=\"white-space:pre;overflow-x:auto;line-height:normal;font-family:Menlo,'DejaVu Sans Mono',consolas,'Courier New',monospace\"><span style=\"color: #7fbfbf; text-decoration-color: #7fbfbf\">[08/03/22 02:44:32] </span><span style=\"color: #008000; text-decoration-color: #008000\">INFO    </span> Animation <span style=\"color: #008000; text-decoration-color: #008000\">22</span> : Partial movie file written in                  <a href=\"file://C:\\Users\\andre\\AppData\\Roaming\\Python\\Python39\\site-packages\\manim\\scene\\scene_file_writer.py\" target=\"_blank\"><span style=\"color: #7f7f7f; text-decoration-color: #7f7f7f\">scene_file_writer.py</span></a><span style=\"color: #7f7f7f; text-decoration-color: #7f7f7f\">:</span><a href=\"file://C:\\Users\\andre\\AppData\\Roaming\\Python\\Python39\\site-packages\\manim\\scene\\scene_file_writer.py#514\" target=\"_blank\"><span style=\"color: #7f7f7f; text-decoration-color: #7f7f7f\">514</span></a>\n",
       "<span style=\"color: #7fbfbf; text-decoration-color: #7fbfbf\">                    </span>         <span style=\"color: #008000; text-decoration-color: #008000\">'E:\\andre\\Desktop\\testemanim\\media\\videos\\testemanim\\1080p60\\</span> <span style=\"color: #7f7f7f; text-decoration-color: #7f7f7f\">                        </span>\n",
       "<span style=\"color: #7fbfbf; text-decoration-color: #7fbfbf\">                    </span>         <span style=\"color: #008000; text-decoration-color: #008000\">partial_movie_files\\FullScene\\34786186_614278461_313459421.mp</span> <span style=\"color: #7f7f7f; text-decoration-color: #7f7f7f\">                        </span>\n",
       "<span style=\"color: #7fbfbf; text-decoration-color: #7fbfbf\">                    </span>         <span style=\"color: #008000; text-decoration-color: #008000\">4'</span>                                                            <span style=\"color: #7f7f7f; text-decoration-color: #7f7f7f\">                        </span>\n",
       "</pre>\n"
      ],
      "text/plain": [
       "\u001b[2;36m[08/03/22 02:44:32]\u001b[0m\u001b[2;36m \u001b[0m\u001b[32mINFO    \u001b[0m Animation \u001b[32m22\u001b[0m : Partial movie file written in                  \u001b]8;id=677489;file://C:\\Users\\andre\\AppData\\Roaming\\Python\\Python39\\site-packages\\manim\\scene\\scene_file_writer.py\u001b\\\u001b[2mscene_file_writer.py\u001b[0m\u001b]8;;\u001b\\\u001b[2m:\u001b[0m\u001b]8;id=746683;file://C:\\Users\\andre\\AppData\\Roaming\\Python\\Python39\\site-packages\\manim\\scene\\scene_file_writer.py#514\u001b\\\u001b[2m514\u001b[0m\u001b]8;;\u001b\\\n",
       "\u001b[2;36m                    \u001b[0m         \u001b[32m'E:\\andre\\Desktop\\testemanim\\media\\videos\\testemanim\\1080p60\\\u001b[0m \u001b[2m                        \u001b[0m\n",
       "\u001b[2;36m                    \u001b[0m         \u001b[32mpartial_movie_files\\FullScene\\34786186_614278461_313459421.mp\u001b[0m \u001b[2m                        \u001b[0m\n",
       "\u001b[2;36m                    \u001b[0m         \u001b[32m4'\u001b[0m                                                            \u001b[2m                        \u001b[0m\n"
      ]
     },
     "metadata": {},
     "output_type": "display_data"
    },
    {
     "data": {
      "text/html": [
       "<pre style=\"white-space:pre;overflow-x:auto;line-height:normal;font-family:Menlo,'DejaVu Sans Mono',consolas,'Courier New',monospace\"><span style=\"color: #7fbfbf; text-decoration-color: #7fbfbf\">[08/03/22 02:44:34] </span><span style=\"color: #008000; text-decoration-color: #008000\">INFO    </span> Animation <span style=\"color: #008000; text-decoration-color: #008000\">23</span> : Partial movie file written in                  <a href=\"file://C:\\Users\\andre\\AppData\\Roaming\\Python\\Python39\\site-packages\\manim\\scene\\scene_file_writer.py\" target=\"_blank\"><span style=\"color: #7f7f7f; text-decoration-color: #7f7f7f\">scene_file_writer.py</span></a><span style=\"color: #7f7f7f; text-decoration-color: #7f7f7f\">:</span><a href=\"file://C:\\Users\\andre\\AppData\\Roaming\\Python\\Python39\\site-packages\\manim\\scene\\scene_file_writer.py#514\" target=\"_blank\"><span style=\"color: #7f7f7f; text-decoration-color: #7f7f7f\">514</span></a>\n",
       "<span style=\"color: #7fbfbf; text-decoration-color: #7fbfbf\">                    </span>         <span style=\"color: #008000; text-decoration-color: #008000\">'E:\\andre\\Desktop\\testemanim\\media\\videos\\testemanim\\1080p60\\</span> <span style=\"color: #7f7f7f; text-decoration-color: #7f7f7f\">                        </span>\n",
       "<span style=\"color: #7fbfbf; text-decoration-color: #7fbfbf\">                    </span>         <span style=\"color: #008000; text-decoration-color: #008000\">partial_movie_files\\FullScene\\34786186_2292429055_53825142.mp</span> <span style=\"color: #7f7f7f; text-decoration-color: #7f7f7f\">                        </span>\n",
       "<span style=\"color: #7fbfbf; text-decoration-color: #7fbfbf\">                    </span>         <span style=\"color: #008000; text-decoration-color: #008000\">4'</span>                                                            <span style=\"color: #7f7f7f; text-decoration-color: #7f7f7f\">                        </span>\n",
       "</pre>\n"
      ],
      "text/plain": [
       "\u001b[2;36m[08/03/22 02:44:34]\u001b[0m\u001b[2;36m \u001b[0m\u001b[32mINFO    \u001b[0m Animation \u001b[32m23\u001b[0m : Partial movie file written in                  \u001b]8;id=601021;file://C:\\Users\\andre\\AppData\\Roaming\\Python\\Python39\\site-packages\\manim\\scene\\scene_file_writer.py\u001b\\\u001b[2mscene_file_writer.py\u001b[0m\u001b]8;;\u001b\\\u001b[2m:\u001b[0m\u001b]8;id=992135;file://C:\\Users\\andre\\AppData\\Roaming\\Python\\Python39\\site-packages\\manim\\scene\\scene_file_writer.py#514\u001b\\\u001b[2m514\u001b[0m\u001b]8;;\u001b\\\n",
       "\u001b[2;36m                    \u001b[0m         \u001b[32m'E:\\andre\\Desktop\\testemanim\\media\\videos\\testemanim\\1080p60\\\u001b[0m \u001b[2m                        \u001b[0m\n",
       "\u001b[2;36m                    \u001b[0m         \u001b[32mpartial_movie_files\\FullScene\\34786186_2292429055_53825142.mp\u001b[0m \u001b[2m                        \u001b[0m\n",
       "\u001b[2;36m                    \u001b[0m         \u001b[32m4'\u001b[0m                                                            \u001b[2m                        \u001b[0m\n"
      ]
     },
     "metadata": {},
     "output_type": "display_data"
    },
    {
     "name": "stderr",
     "output_type": "stream",
     "text": [
      "                                                                                                                              \r"
     ]
    },
    {
     "data": {
      "text/html": [
       "<pre style=\"white-space:pre;overflow-x:auto;line-height:normal;font-family:Menlo,'DejaVu Sans Mono',consolas,'Courier New',monospace\"><span style=\"color: #7fbfbf; text-decoration-color: #7fbfbf\">[08/03/22 02:44:36] </span><span style=\"color: #008000; text-decoration-color: #008000\">INFO    </span> Animation <span style=\"color: #008000; text-decoration-color: #008000\">24</span> : Partial movie file written in                  <a href=\"file://C:\\Users\\andre\\AppData\\Roaming\\Python\\Python39\\site-packages\\manim\\scene\\scene_file_writer.py\" target=\"_blank\"><span style=\"color: #7f7f7f; text-decoration-color: #7f7f7f\">scene_file_writer.py</span></a><span style=\"color: #7f7f7f; text-decoration-color: #7f7f7f\">:</span><a href=\"file://C:\\Users\\andre\\AppData\\Roaming\\Python\\Python39\\site-packages\\manim\\scene\\scene_file_writer.py#514\" target=\"_blank\"><span style=\"color: #7f7f7f; text-decoration-color: #7f7f7f\">514</span></a>\n",
       "<span style=\"color: #7fbfbf; text-decoration-color: #7fbfbf\">                    </span>         <span style=\"color: #008000; text-decoration-color: #008000\">'E:\\andre\\Desktop\\testemanim\\media\\videos\\testemanim\\1080p60\\</span> <span style=\"color: #7f7f7f; text-decoration-color: #7f7f7f\">                        </span>\n",
       "<span style=\"color: #7fbfbf; text-decoration-color: #7fbfbf\">                    </span>         <span style=\"color: #008000; text-decoration-color: #008000\">partial_movie_files\\FullScene\\34786186_1258602533_2470089230.</span> <span style=\"color: #7f7f7f; text-decoration-color: #7f7f7f\">                        </span>\n",
       "<span style=\"color: #7fbfbf; text-decoration-color: #7fbfbf\">                    </span>         <span style=\"color: #008000; text-decoration-color: #008000\">mp4'</span>                                                          <span style=\"color: #7f7f7f; text-decoration-color: #7f7f7f\">                        </span>\n",
       "</pre>\n"
      ],
      "text/plain": [
       "\u001b[2;36m[08/03/22 02:44:36]\u001b[0m\u001b[2;36m \u001b[0m\u001b[32mINFO    \u001b[0m Animation \u001b[32m24\u001b[0m : Partial movie file written in                  \u001b]8;id=288119;file://C:\\Users\\andre\\AppData\\Roaming\\Python\\Python39\\site-packages\\manim\\scene\\scene_file_writer.py\u001b\\\u001b[2mscene_file_writer.py\u001b[0m\u001b]8;;\u001b\\\u001b[2m:\u001b[0m\u001b]8;id=891396;file://C:\\Users\\andre\\AppData\\Roaming\\Python\\Python39\\site-packages\\manim\\scene\\scene_file_writer.py#514\u001b\\\u001b[2m514\u001b[0m\u001b]8;;\u001b\\\n",
       "\u001b[2;36m                    \u001b[0m         \u001b[32m'E:\\andre\\Desktop\\testemanim\\media\\videos\\testemanim\\1080p60\\\u001b[0m \u001b[2m                        \u001b[0m\n",
       "\u001b[2;36m                    \u001b[0m         \u001b[32mpartial_movie_files\\FullScene\\34786186_1258602533_2470089230.\u001b[0m \u001b[2m                        \u001b[0m\n",
       "\u001b[2;36m                    \u001b[0m         \u001b[32mmp4'\u001b[0m                                                          \u001b[2m                        \u001b[0m\n"
      ]
     },
     "metadata": {},
     "output_type": "display_data"
    },
    {
     "name": "stderr",
     "output_type": "stream",
     "text": [
      "                                                                                                               \r"
     ]
    },
    {
     "data": {
      "text/html": [
       "<pre style=\"white-space:pre;overflow-x:auto;line-height:normal;font-family:Menlo,'DejaVu Sans Mono',consolas,'Courier New',monospace\"><span style=\"color: #7fbfbf; text-decoration-color: #7fbfbf\">[08/03/22 02:44:39] </span><span style=\"color: #008000; text-decoration-color: #008000\">INFO    </span> Animation <span style=\"color: #008000; text-decoration-color: #008000\">25</span> : Partial movie file written in                  <a href=\"file://C:\\Users\\andre\\AppData\\Roaming\\Python\\Python39\\site-packages\\manim\\scene\\scene_file_writer.py\" target=\"_blank\"><span style=\"color: #7f7f7f; text-decoration-color: #7f7f7f\">scene_file_writer.py</span></a><span style=\"color: #7f7f7f; text-decoration-color: #7f7f7f\">:</span><a href=\"file://C:\\Users\\andre\\AppData\\Roaming\\Python\\Python39\\site-packages\\manim\\scene\\scene_file_writer.py#514\" target=\"_blank\"><span style=\"color: #7f7f7f; text-decoration-color: #7f7f7f\">514</span></a>\n",
       "<span style=\"color: #7fbfbf; text-decoration-color: #7fbfbf\">                    </span>         <span style=\"color: #008000; text-decoration-color: #008000\">'E:\\andre\\Desktop\\testemanim\\media\\videos\\testemanim\\1080p60\\</span> <span style=\"color: #7f7f7f; text-decoration-color: #7f7f7f\">                        </span>\n",
       "<span style=\"color: #7fbfbf; text-decoration-color: #7fbfbf\">                    </span>         <span style=\"color: #008000; text-decoration-color: #008000\">partial_movie_files\\FullScene\\34786186_1841335794_4729318.mp4</span> <span style=\"color: #7f7f7f; text-decoration-color: #7f7f7f\">                        </span>\n",
       "<span style=\"color: #7fbfbf; text-decoration-color: #7fbfbf\">                    </span>         <span style=\"color: #008000; text-decoration-color: #008000\">'</span>                                                             <span style=\"color: #7f7f7f; text-decoration-color: #7f7f7f\">                        </span>\n",
       "</pre>\n"
      ],
      "text/plain": [
       "\u001b[2;36m[08/03/22 02:44:39]\u001b[0m\u001b[2;36m \u001b[0m\u001b[32mINFO    \u001b[0m Animation \u001b[32m25\u001b[0m : Partial movie file written in                  \u001b]8;id=840054;file://C:\\Users\\andre\\AppData\\Roaming\\Python\\Python39\\site-packages\\manim\\scene\\scene_file_writer.py\u001b\\\u001b[2mscene_file_writer.py\u001b[0m\u001b]8;;\u001b\\\u001b[2m:\u001b[0m\u001b]8;id=211094;file://C:\\Users\\andre\\AppData\\Roaming\\Python\\Python39\\site-packages\\manim\\scene\\scene_file_writer.py#514\u001b\\\u001b[2m514\u001b[0m\u001b]8;;\u001b\\\n",
       "\u001b[2;36m                    \u001b[0m         \u001b[32m'E:\\andre\\Desktop\\testemanim\\media\\videos\\testemanim\\1080p60\\\u001b[0m \u001b[2m                        \u001b[0m\n",
       "\u001b[2;36m                    \u001b[0m         \u001b[32mpartial_movie_files\\FullScene\\34786186_1841335794_4729318.mp4\u001b[0m \u001b[2m                        \u001b[0m\n",
       "\u001b[2;36m                    \u001b[0m         \u001b[32m'\u001b[0m                                                             \u001b[2m                        \u001b[0m\n"
      ]
     },
     "metadata": {},
     "output_type": "display_data"
    },
    {
     "data": {
      "text/html": [
       "<pre style=\"white-space:pre;overflow-x:auto;line-height:normal;font-family:Menlo,'DejaVu Sans Mono',consolas,'Courier New',monospace\"><span style=\"color: #7fbfbf; text-decoration-color: #7fbfbf\">[08/03/22 02:44:40] </span><span style=\"color: #008000; text-decoration-color: #008000\">INFO    </span> Animation <span style=\"color: #008000; text-decoration-color: #008000\">26</span> : Partial movie file written in                  <a href=\"file://C:\\Users\\andre\\AppData\\Roaming\\Python\\Python39\\site-packages\\manim\\scene\\scene_file_writer.py\" target=\"_blank\"><span style=\"color: #7f7f7f; text-decoration-color: #7f7f7f\">scene_file_writer.py</span></a><span style=\"color: #7f7f7f; text-decoration-color: #7f7f7f\">:</span><a href=\"file://C:\\Users\\andre\\AppData\\Roaming\\Python\\Python39\\site-packages\\manim\\scene\\scene_file_writer.py#514\" target=\"_blank\"><span style=\"color: #7f7f7f; text-decoration-color: #7f7f7f\">514</span></a>\n",
       "<span style=\"color: #7fbfbf; text-decoration-color: #7fbfbf\">                    </span>         <span style=\"color: #008000; text-decoration-color: #008000\">'E:\\andre\\Desktop\\testemanim\\media\\videos\\testemanim\\1080p60\\</span> <span style=\"color: #7f7f7f; text-decoration-color: #7f7f7f\">                        </span>\n",
       "<span style=\"color: #7fbfbf; text-decoration-color: #7fbfbf\">                    </span>         <span style=\"color: #008000; text-decoration-color: #008000\">partial_movie_files\\FullScene\\34786186_3073779459_2536703765.</span> <span style=\"color: #7f7f7f; text-decoration-color: #7f7f7f\">                        </span>\n",
       "<span style=\"color: #7fbfbf; text-decoration-color: #7fbfbf\">                    </span>         <span style=\"color: #008000; text-decoration-color: #008000\">mp4'</span>                                                          <span style=\"color: #7f7f7f; text-decoration-color: #7f7f7f\">                        </span>\n",
       "</pre>\n"
      ],
      "text/plain": [
       "\u001b[2;36m[08/03/22 02:44:40]\u001b[0m\u001b[2;36m \u001b[0m\u001b[32mINFO    \u001b[0m Animation \u001b[32m26\u001b[0m : Partial movie file written in                  \u001b]8;id=153747;file://C:\\Users\\andre\\AppData\\Roaming\\Python\\Python39\\site-packages\\manim\\scene\\scene_file_writer.py\u001b\\\u001b[2mscene_file_writer.py\u001b[0m\u001b]8;;\u001b\\\u001b[2m:\u001b[0m\u001b]8;id=272223;file://C:\\Users\\andre\\AppData\\Roaming\\Python\\Python39\\site-packages\\manim\\scene\\scene_file_writer.py#514\u001b\\\u001b[2m514\u001b[0m\u001b]8;;\u001b\\\n",
       "\u001b[2;36m                    \u001b[0m         \u001b[32m'E:\\andre\\Desktop\\testemanim\\media\\videos\\testemanim\\1080p60\\\u001b[0m \u001b[2m                        \u001b[0m\n",
       "\u001b[2;36m                    \u001b[0m         \u001b[32mpartial_movie_files\\FullScene\\34786186_3073779459_2536703765.\u001b[0m \u001b[2m                        \u001b[0m\n",
       "\u001b[2;36m                    \u001b[0m         \u001b[32mmp4'\u001b[0m                                                          \u001b[2m                        \u001b[0m\n"
      ]
     },
     "metadata": {},
     "output_type": "display_data"
    },
    {
     "name": "stderr",
     "output_type": "stream",
     "text": [
      "                                                                                                                 \r"
     ]
    },
    {
     "data": {
      "text/html": [
       "<pre style=\"white-space:pre;overflow-x:auto;line-height:normal;font-family:Menlo,'DejaVu Sans Mono',consolas,'Courier New',monospace\"><span style=\"color: #7fbfbf; text-decoration-color: #7fbfbf\">[08/03/22 02:44:44] </span><span style=\"color: #008000; text-decoration-color: #008000\">INFO    </span> Animation <span style=\"color: #008000; text-decoration-color: #008000\">27</span> : Partial movie file written in                  <a href=\"file://C:\\Users\\andre\\AppData\\Roaming\\Python\\Python39\\site-packages\\manim\\scene\\scene_file_writer.py\" target=\"_blank\"><span style=\"color: #7f7f7f; text-decoration-color: #7f7f7f\">scene_file_writer.py</span></a><span style=\"color: #7f7f7f; text-decoration-color: #7f7f7f\">:</span><a href=\"file://C:\\Users\\andre\\AppData\\Roaming\\Python\\Python39\\site-packages\\manim\\scene\\scene_file_writer.py#514\" target=\"_blank\"><span style=\"color: #7f7f7f; text-decoration-color: #7f7f7f\">514</span></a>\n",
       "<span style=\"color: #7fbfbf; text-decoration-color: #7fbfbf\">                    </span>         <span style=\"color: #008000; text-decoration-color: #008000\">'E:\\andre\\Desktop\\testemanim\\media\\videos\\testemanim\\1080p60\\</span> <span style=\"color: #7f7f7f; text-decoration-color: #7f7f7f\">                        </span>\n",
       "<span style=\"color: #7fbfbf; text-decoration-color: #7fbfbf\">                    </span>         <span style=\"color: #008000; text-decoration-color: #008000\">partial_movie_files\\FullScene\\34786186_3101833340_2371053343.</span> <span style=\"color: #7f7f7f; text-decoration-color: #7f7f7f\">                        </span>\n",
       "<span style=\"color: #7fbfbf; text-decoration-color: #7fbfbf\">                    </span>         <span style=\"color: #008000; text-decoration-color: #008000\">mp4'</span>                                                          <span style=\"color: #7f7f7f; text-decoration-color: #7f7f7f\">                        </span>\n",
       "</pre>\n"
      ],
      "text/plain": [
       "\u001b[2;36m[08/03/22 02:44:44]\u001b[0m\u001b[2;36m \u001b[0m\u001b[32mINFO    \u001b[0m Animation \u001b[32m27\u001b[0m : Partial movie file written in                  \u001b]8;id=984854;file://C:\\Users\\andre\\AppData\\Roaming\\Python\\Python39\\site-packages\\manim\\scene\\scene_file_writer.py\u001b\\\u001b[2mscene_file_writer.py\u001b[0m\u001b]8;;\u001b\\\u001b[2m:\u001b[0m\u001b]8;id=580061;file://C:\\Users\\andre\\AppData\\Roaming\\Python\\Python39\\site-packages\\manim\\scene\\scene_file_writer.py#514\u001b\\\u001b[2m514\u001b[0m\u001b]8;;\u001b\\\n",
       "\u001b[2;36m                    \u001b[0m         \u001b[32m'E:\\andre\\Desktop\\testemanim\\media\\videos\\testemanim\\1080p60\\\u001b[0m \u001b[2m                        \u001b[0m\n",
       "\u001b[2;36m                    \u001b[0m         \u001b[32mpartial_movie_files\\FullScene\\34786186_3101833340_2371053343.\u001b[0m \u001b[2m                        \u001b[0m\n",
       "\u001b[2;36m                    \u001b[0m         \u001b[32mmp4'\u001b[0m                                                          \u001b[2m                        \u001b[0m\n"
      ]
     },
     "metadata": {},
     "output_type": "display_data"
    },
    {
     "data": {
      "text/html": [
       "<pre style=\"white-space:pre;overflow-x:auto;line-height:normal;font-family:Menlo,'DejaVu Sans Mono',consolas,'Courier New',monospace\"><span style=\"color: #7fbfbf; text-decoration-color: #7fbfbf\">[08/03/22 02:44:46] </span><span style=\"color: #008000; text-decoration-color: #008000\">INFO    </span> Animation <span style=\"color: #008000; text-decoration-color: #008000\">28</span> : Partial movie file written in                  <a href=\"file://C:\\Users\\andre\\AppData\\Roaming\\Python\\Python39\\site-packages\\manim\\scene\\scene_file_writer.py\" target=\"_blank\"><span style=\"color: #7f7f7f; text-decoration-color: #7f7f7f\">scene_file_writer.py</span></a><span style=\"color: #7f7f7f; text-decoration-color: #7f7f7f\">:</span><a href=\"file://C:\\Users\\andre\\AppData\\Roaming\\Python\\Python39\\site-packages\\manim\\scene\\scene_file_writer.py#514\" target=\"_blank\"><span style=\"color: #7f7f7f; text-decoration-color: #7f7f7f\">514</span></a>\n",
       "<span style=\"color: #7fbfbf; text-decoration-color: #7fbfbf\">                    </span>         <span style=\"color: #008000; text-decoration-color: #008000\">'E:\\andre\\Desktop\\testemanim\\media\\videos\\testemanim\\1080p60\\</span> <span style=\"color: #7f7f7f; text-decoration-color: #7f7f7f\">                        </span>\n",
       "<span style=\"color: #7fbfbf; text-decoration-color: #7fbfbf\">                    </span>         <span style=\"color: #008000; text-decoration-color: #008000\">partial_movie_files\\FullScene\\34786186_2292429055_2304270149.</span> <span style=\"color: #7f7f7f; text-decoration-color: #7f7f7f\">                        </span>\n",
       "<span style=\"color: #7fbfbf; text-decoration-color: #7fbfbf\">                    </span>         <span style=\"color: #008000; text-decoration-color: #008000\">mp4'</span>                                                          <span style=\"color: #7f7f7f; text-decoration-color: #7f7f7f\">                        </span>\n",
       "</pre>\n"
      ],
      "text/plain": [
       "\u001b[2;36m[08/03/22 02:44:46]\u001b[0m\u001b[2;36m \u001b[0m\u001b[32mINFO    \u001b[0m Animation \u001b[32m28\u001b[0m : Partial movie file written in                  \u001b]8;id=115346;file://C:\\Users\\andre\\AppData\\Roaming\\Python\\Python39\\site-packages\\manim\\scene\\scene_file_writer.py\u001b\\\u001b[2mscene_file_writer.py\u001b[0m\u001b]8;;\u001b\\\u001b[2m:\u001b[0m\u001b]8;id=864323;file://C:\\Users\\andre\\AppData\\Roaming\\Python\\Python39\\site-packages\\manim\\scene\\scene_file_writer.py#514\u001b\\\u001b[2m514\u001b[0m\u001b]8;;\u001b\\\n",
       "\u001b[2;36m                    \u001b[0m         \u001b[32m'E:\\andre\\Desktop\\testemanim\\media\\videos\\testemanim\\1080p60\\\u001b[0m \u001b[2m                        \u001b[0m\n",
       "\u001b[2;36m                    \u001b[0m         \u001b[32mpartial_movie_files\\FullScene\\34786186_2292429055_2304270149.\u001b[0m \u001b[2m                        \u001b[0m\n",
       "\u001b[2;36m                    \u001b[0m         \u001b[32mmp4'\u001b[0m                                                          \u001b[2m                        \u001b[0m\n"
      ]
     },
     "metadata": {},
     "output_type": "display_data"
    },
    {
     "name": "stderr",
     "output_type": "stream",
     "text": [
      "                                                                                                                 \r"
     ]
    },
    {
     "data": {
      "text/html": [
       "<pre style=\"white-space:pre;overflow-x:auto;line-height:normal;font-family:Menlo,'DejaVu Sans Mono',consolas,'Courier New',monospace\"><span style=\"color: #7fbfbf; text-decoration-color: #7fbfbf\">[08/03/22 02:45:12] </span><span style=\"color: #008000; text-decoration-color: #008000\">INFO    </span> Animation <span style=\"color: #008000; text-decoration-color: #008000\">29</span> : Partial movie file written in                  <a href=\"file://C:\\Users\\andre\\AppData\\Roaming\\Python\\Python39\\site-packages\\manim\\scene\\scene_file_writer.py\" target=\"_blank\"><span style=\"color: #7f7f7f; text-decoration-color: #7f7f7f\">scene_file_writer.py</span></a><span style=\"color: #7f7f7f; text-decoration-color: #7f7f7f\">:</span><a href=\"file://C:\\Users\\andre\\AppData\\Roaming\\Python\\Python39\\site-packages\\manim\\scene\\scene_file_writer.py#514\" target=\"_blank\"><span style=\"color: #7f7f7f; text-decoration-color: #7f7f7f\">514</span></a>\n",
       "<span style=\"color: #7fbfbf; text-decoration-color: #7fbfbf\">                    </span>         <span style=\"color: #008000; text-decoration-color: #008000\">'E:\\andre\\Desktop\\testemanim\\media\\videos\\testemanim\\1080p60\\</span> <span style=\"color: #7f7f7f; text-decoration-color: #7f7f7f\">                        </span>\n",
       "<span style=\"color: #7fbfbf; text-decoration-color: #7fbfbf\">                    </span>         <span style=\"color: #008000; text-decoration-color: #008000\">partial_movie_files\\FullScene\\34786186_1627216835_3509953834.</span> <span style=\"color: #7f7f7f; text-decoration-color: #7f7f7f\">                        </span>\n",
       "<span style=\"color: #7fbfbf; text-decoration-color: #7fbfbf\">                    </span>         <span style=\"color: #008000; text-decoration-color: #008000\">mp4'</span>                                                          <span style=\"color: #7f7f7f; text-decoration-color: #7f7f7f\">                        </span>\n",
       "</pre>\n"
      ],
      "text/plain": [
       "\u001b[2;36m[08/03/22 02:45:12]\u001b[0m\u001b[2;36m \u001b[0m\u001b[32mINFO    \u001b[0m Animation \u001b[32m29\u001b[0m : Partial movie file written in                  \u001b]8;id=537298;file://C:\\Users\\andre\\AppData\\Roaming\\Python\\Python39\\site-packages\\manim\\scene\\scene_file_writer.py\u001b\\\u001b[2mscene_file_writer.py\u001b[0m\u001b]8;;\u001b\\\u001b[2m:\u001b[0m\u001b]8;id=320877;file://C:\\Users\\andre\\AppData\\Roaming\\Python\\Python39\\site-packages\\manim\\scene\\scene_file_writer.py#514\u001b\\\u001b[2m514\u001b[0m\u001b]8;;\u001b\\\n",
       "\u001b[2;36m                    \u001b[0m         \u001b[32m'E:\\andre\\Desktop\\testemanim\\media\\videos\\testemanim\\1080p60\\\u001b[0m \u001b[2m                        \u001b[0m\n",
       "\u001b[2;36m                    \u001b[0m         \u001b[32mpartial_movie_files\\FullScene\\34786186_1627216835_3509953834.\u001b[0m \u001b[2m                        \u001b[0m\n",
       "\u001b[2;36m                    \u001b[0m         \u001b[32mmp4'\u001b[0m                                                          \u001b[2m                        \u001b[0m\n"
      ]
     },
     "metadata": {},
     "output_type": "display_data"
    },
    {
     "data": {
      "text/html": [
       "<pre style=\"white-space:pre;overflow-x:auto;line-height:normal;font-family:Menlo,'DejaVu Sans Mono',consolas,'Courier New',monospace\"><span style=\"color: #7fbfbf; text-decoration-color: #7fbfbf\">[08/03/22 02:45:16] </span><span style=\"color: #008000; text-decoration-color: #008000\">INFO    </span> Animation <span style=\"color: #008000; text-decoration-color: #008000\">30</span> : Partial movie file written in                  <a href=\"file://C:\\Users\\andre\\AppData\\Roaming\\Python\\Python39\\site-packages\\manim\\scene\\scene_file_writer.py\" target=\"_blank\"><span style=\"color: #7f7f7f; text-decoration-color: #7f7f7f\">scene_file_writer.py</span></a><span style=\"color: #7f7f7f; text-decoration-color: #7f7f7f\">:</span><a href=\"file://C:\\Users\\andre\\AppData\\Roaming\\Python\\Python39\\site-packages\\manim\\scene\\scene_file_writer.py#514\" target=\"_blank\"><span style=\"color: #7f7f7f; text-decoration-color: #7f7f7f\">514</span></a>\n",
       "<span style=\"color: #7fbfbf; text-decoration-color: #7fbfbf\">                    </span>         <span style=\"color: #008000; text-decoration-color: #008000\">'E:\\andre\\Desktop\\testemanim\\media\\videos\\testemanim\\1080p60\\</span> <span style=\"color: #7f7f7f; text-decoration-color: #7f7f7f\">                        </span>\n",
       "<span style=\"color: #7fbfbf; text-decoration-color: #7fbfbf\">                    </span>         <span style=\"color: #008000; text-decoration-color: #008000\">partial_movie_files\\FullScene\\34786186_3073779459_2653646877.</span> <span style=\"color: #7f7f7f; text-decoration-color: #7f7f7f\">                        </span>\n",
       "<span style=\"color: #7fbfbf; text-decoration-color: #7fbfbf\">                    </span>         <span style=\"color: #008000; text-decoration-color: #008000\">mp4'</span>                                                          <span style=\"color: #7f7f7f; text-decoration-color: #7f7f7f\">                        </span>\n",
       "</pre>\n"
      ],
      "text/plain": [
       "\u001b[2;36m[08/03/22 02:45:16]\u001b[0m\u001b[2;36m \u001b[0m\u001b[32mINFO    \u001b[0m Animation \u001b[32m30\u001b[0m : Partial movie file written in                  \u001b]8;id=227378;file://C:\\Users\\andre\\AppData\\Roaming\\Python\\Python39\\site-packages\\manim\\scene\\scene_file_writer.py\u001b\\\u001b[2mscene_file_writer.py\u001b[0m\u001b]8;;\u001b\\\u001b[2m:\u001b[0m\u001b]8;id=562934;file://C:\\Users\\andre\\AppData\\Roaming\\Python\\Python39\\site-packages\\manim\\scene\\scene_file_writer.py#514\u001b\\\u001b[2m514\u001b[0m\u001b]8;;\u001b\\\n",
       "\u001b[2;36m                    \u001b[0m         \u001b[32m'E:\\andre\\Desktop\\testemanim\\media\\videos\\testemanim\\1080p60\\\u001b[0m \u001b[2m                        \u001b[0m\n",
       "\u001b[2;36m                    \u001b[0m         \u001b[32mpartial_movie_files\\FullScene\\34786186_3073779459_2653646877.\u001b[0m \u001b[2m                        \u001b[0m\n",
       "\u001b[2;36m                    \u001b[0m         \u001b[32mmp4'\u001b[0m                                                          \u001b[2m                        \u001b[0m\n"
      ]
     },
     "metadata": {},
     "output_type": "display_data"
    },
    {
     "name": "stderr",
     "output_type": "stream",
     "text": [
      "                                                                                                               \r"
     ]
    },
    {
     "data": {
      "text/html": [
       "<pre style=\"white-space:pre;overflow-x:auto;line-height:normal;font-family:Menlo,'DejaVu Sans Mono',consolas,'Courier New',monospace\"><span style=\"color: #7fbfbf; text-decoration-color: #7fbfbf\">[08/03/22 02:45:36] </span><span style=\"color: #008000; text-decoration-color: #008000\">INFO    </span> Animation <span style=\"color: #008000; text-decoration-color: #008000\">31</span> : Partial movie file written in                  <a href=\"file://C:\\Users\\andre\\AppData\\Roaming\\Python\\Python39\\site-packages\\manim\\scene\\scene_file_writer.py\" target=\"_blank\"><span style=\"color: #7f7f7f; text-decoration-color: #7f7f7f\">scene_file_writer.py</span></a><span style=\"color: #7f7f7f; text-decoration-color: #7f7f7f\">:</span><a href=\"file://C:\\Users\\andre\\AppData\\Roaming\\Python\\Python39\\site-packages\\manim\\scene\\scene_file_writer.py#514\" target=\"_blank\"><span style=\"color: #7f7f7f; text-decoration-color: #7f7f7f\">514</span></a>\n",
       "<span style=\"color: #7fbfbf; text-decoration-color: #7fbfbf\">                    </span>         <span style=\"color: #008000; text-decoration-color: #008000\">'E:\\andre\\Desktop\\testemanim\\media\\videos\\testemanim\\1080p60\\</span> <span style=\"color: #7f7f7f; text-decoration-color: #7f7f7f\">                        </span>\n",
       "<span style=\"color: #7fbfbf; text-decoration-color: #7fbfbf\">                    </span>         <span style=\"color: #008000; text-decoration-color: #008000\">partial_movie_files\\FullScene\\34786186_2481295332_195085616.m</span> <span style=\"color: #7f7f7f; text-decoration-color: #7f7f7f\">                        </span>\n",
       "<span style=\"color: #7fbfbf; text-decoration-color: #7fbfbf\">                    </span>         <span style=\"color: #008000; text-decoration-color: #008000\">p4'</span>                                                           <span style=\"color: #7f7f7f; text-decoration-color: #7f7f7f\">                        </span>\n",
       "</pre>\n"
      ],
      "text/plain": [
       "\u001b[2;36m[08/03/22 02:45:36]\u001b[0m\u001b[2;36m \u001b[0m\u001b[32mINFO    \u001b[0m Animation \u001b[32m31\u001b[0m : Partial movie file written in                  \u001b]8;id=807973;file://C:\\Users\\andre\\AppData\\Roaming\\Python\\Python39\\site-packages\\manim\\scene\\scene_file_writer.py\u001b\\\u001b[2mscene_file_writer.py\u001b[0m\u001b]8;;\u001b\\\u001b[2m:\u001b[0m\u001b]8;id=651652;file://C:\\Users\\andre\\AppData\\Roaming\\Python\\Python39\\site-packages\\manim\\scene\\scene_file_writer.py#514\u001b\\\u001b[2m514\u001b[0m\u001b]8;;\u001b\\\n",
       "\u001b[2;36m                    \u001b[0m         \u001b[32m'E:\\andre\\Desktop\\testemanim\\media\\videos\\testemanim\\1080p60\\\u001b[0m \u001b[2m                        \u001b[0m\n",
       "\u001b[2;36m                    \u001b[0m         \u001b[32mpartial_movie_files\\FullScene\\34786186_2481295332_195085616.m\u001b[0m \u001b[2m                        \u001b[0m\n",
       "\u001b[2;36m                    \u001b[0m         \u001b[32mp4'\u001b[0m                                                           \u001b[2m                        \u001b[0m\n"
      ]
     },
     "metadata": {},
     "output_type": "display_data"
    },
    {
     "name": "stderr",
     "output_type": "stream",
     "text": [
      "                                                                                            \r"
     ]
    },
    {
     "data": {
      "text/html": [
       "<pre style=\"white-space:pre;overflow-x:auto;line-height:normal;font-family:Menlo,'DejaVu Sans Mono',consolas,'Courier New',monospace\"><span style=\"color: #7fbfbf; text-decoration-color: #7fbfbf\">[08/03/22 02:45:37] </span><span style=\"color: #008000; text-decoration-color: #008000\">INFO    </span> Animation <span style=\"color: #008000; text-decoration-color: #008000\">32</span> : Partial movie file written in                  <a href=\"file://C:\\Users\\andre\\AppData\\Roaming\\Python\\Python39\\site-packages\\manim\\scene\\scene_file_writer.py\" target=\"_blank\"><span style=\"color: #7f7f7f; text-decoration-color: #7f7f7f\">scene_file_writer.py</span></a><span style=\"color: #7f7f7f; text-decoration-color: #7f7f7f\">:</span><a href=\"file://C:\\Users\\andre\\AppData\\Roaming\\Python\\Python39\\site-packages\\manim\\scene\\scene_file_writer.py#514\" target=\"_blank\"><span style=\"color: #7f7f7f; text-decoration-color: #7f7f7f\">514</span></a>\n",
       "<span style=\"color: #7fbfbf; text-decoration-color: #7fbfbf\">                    </span>         <span style=\"color: #008000; text-decoration-color: #008000\">'E:\\andre\\Desktop\\testemanim\\media\\videos\\testemanim\\1080p60\\</span> <span style=\"color: #7f7f7f; text-decoration-color: #7f7f7f\">                        </span>\n",
       "<span style=\"color: #7fbfbf; text-decoration-color: #7fbfbf\">                    </span>         <span style=\"color: #008000; text-decoration-color: #008000\">partial_movie_files\\FullScene\\34786186_3115453941_3188614134.</span> <span style=\"color: #7f7f7f; text-decoration-color: #7f7f7f\">                        </span>\n",
       "<span style=\"color: #7fbfbf; text-decoration-color: #7fbfbf\">                    </span>         <span style=\"color: #008000; text-decoration-color: #008000\">mp4'</span>                                                          <span style=\"color: #7f7f7f; text-decoration-color: #7f7f7f\">                        </span>\n",
       "</pre>\n"
      ],
      "text/plain": [
       "\u001b[2;36m[08/03/22 02:45:37]\u001b[0m\u001b[2;36m \u001b[0m\u001b[32mINFO    \u001b[0m Animation \u001b[32m32\u001b[0m : Partial movie file written in                  \u001b]8;id=86487;file://C:\\Users\\andre\\AppData\\Roaming\\Python\\Python39\\site-packages\\manim\\scene\\scene_file_writer.py\u001b\\\u001b[2mscene_file_writer.py\u001b[0m\u001b]8;;\u001b\\\u001b[2m:\u001b[0m\u001b]8;id=811314;file://C:\\Users\\andre\\AppData\\Roaming\\Python\\Python39\\site-packages\\manim\\scene\\scene_file_writer.py#514\u001b\\\u001b[2m514\u001b[0m\u001b]8;;\u001b\\\n",
       "\u001b[2;36m                    \u001b[0m         \u001b[32m'E:\\andre\\Desktop\\testemanim\\media\\videos\\testemanim\\1080p60\\\u001b[0m \u001b[2m                        \u001b[0m\n",
       "\u001b[2;36m                    \u001b[0m         \u001b[32mpartial_movie_files\\FullScene\\34786186_3115453941_3188614134.\u001b[0m \u001b[2m                        \u001b[0m\n",
       "\u001b[2;36m                    \u001b[0m         \u001b[32mmp4'\u001b[0m                                                          \u001b[2m                        \u001b[0m\n"
      ]
     },
     "metadata": {},
     "output_type": "display_data"
    },
    {
     "data": {
      "text/html": [
       "<pre style=\"white-space:pre;overflow-x:auto;line-height:normal;font-family:Menlo,'DejaVu Sans Mono',consolas,'Courier New',monospace\"><span style=\"color: #7fbfbf; text-decoration-color: #7fbfbf\">[08/03/22 02:45:38] </span><span style=\"color: #008000; text-decoration-color: #008000\">INFO    </span> Animation <span style=\"color: #008000; text-decoration-color: #008000\">33</span> : Partial movie file written in                  <a href=\"file://C:\\Users\\andre\\AppData\\Roaming\\Python\\Python39\\site-packages\\manim\\scene\\scene_file_writer.py\" target=\"_blank\"><span style=\"color: #7f7f7f; text-decoration-color: #7f7f7f\">scene_file_writer.py</span></a><span style=\"color: #7f7f7f; text-decoration-color: #7f7f7f\">:</span><a href=\"file://C:\\Users\\andre\\AppData\\Roaming\\Python\\Python39\\site-packages\\manim\\scene\\scene_file_writer.py#514\" target=\"_blank\"><span style=\"color: #7f7f7f; text-decoration-color: #7f7f7f\">514</span></a>\n",
       "<span style=\"color: #7fbfbf; text-decoration-color: #7fbfbf\">                    </span>         <span style=\"color: #008000; text-decoration-color: #008000\">'E:\\andre\\Desktop\\testemanim\\media\\videos\\testemanim\\1080p60\\</span> <span style=\"color: #7f7f7f; text-decoration-color: #7f7f7f\">                        </span>\n",
       "<span style=\"color: #7fbfbf; text-decoration-color: #7fbfbf\">                    </span>         <span style=\"color: #008000; text-decoration-color: #008000\">partial_movie_files\\FullScene\\34786186_190800790_2945293362.m</span> <span style=\"color: #7f7f7f; text-decoration-color: #7f7f7f\">                        </span>\n",
       "<span style=\"color: #7fbfbf; text-decoration-color: #7fbfbf\">                    </span>         <span style=\"color: #008000; text-decoration-color: #008000\">p4'</span>                                                           <span style=\"color: #7f7f7f; text-decoration-color: #7f7f7f\">                        </span>\n",
       "</pre>\n"
      ],
      "text/plain": [
       "\u001b[2;36m[08/03/22 02:45:38]\u001b[0m\u001b[2;36m \u001b[0m\u001b[32mINFO    \u001b[0m Animation \u001b[32m33\u001b[0m : Partial movie file written in                  \u001b]8;id=988340;file://C:\\Users\\andre\\AppData\\Roaming\\Python\\Python39\\site-packages\\manim\\scene\\scene_file_writer.py\u001b\\\u001b[2mscene_file_writer.py\u001b[0m\u001b]8;;\u001b\\\u001b[2m:\u001b[0m\u001b]8;id=7793;file://C:\\Users\\andre\\AppData\\Roaming\\Python\\Python39\\site-packages\\manim\\scene\\scene_file_writer.py#514\u001b\\\u001b[2m514\u001b[0m\u001b]8;;\u001b\\\n",
       "\u001b[2;36m                    \u001b[0m         \u001b[32m'E:\\andre\\Desktop\\testemanim\\media\\videos\\testemanim\\1080p60\\\u001b[0m \u001b[2m                        \u001b[0m\n",
       "\u001b[2;36m                    \u001b[0m         \u001b[32mpartial_movie_files\\FullScene\\34786186_190800790_2945293362.m\u001b[0m \u001b[2m                        \u001b[0m\n",
       "\u001b[2;36m                    \u001b[0m         \u001b[32mp4'\u001b[0m                                                           \u001b[2m                        \u001b[0m\n"
      ]
     },
     "metadata": {},
     "output_type": "display_data"
    },
    {
     "name": "stderr",
     "output_type": "stream",
     "text": [
      "                                                                                              \r"
     ]
    },
    {
     "data": {
      "text/html": [
       "<pre style=\"white-space:pre;overflow-x:auto;line-height:normal;font-family:Menlo,'DejaVu Sans Mono',consolas,'Courier New',monospace\"><span style=\"color: #7fbfbf; text-decoration-color: #7fbfbf\">[08/03/22 02:45:39] </span><span style=\"color: #008000; text-decoration-color: #008000\">INFO    </span> Animation <span style=\"color: #008000; text-decoration-color: #008000\">34</span> : Partial movie file written in                  <a href=\"file://C:\\Users\\andre\\AppData\\Roaming\\Python\\Python39\\site-packages\\manim\\scene\\scene_file_writer.py\" target=\"_blank\"><span style=\"color: #7f7f7f; text-decoration-color: #7f7f7f\">scene_file_writer.py</span></a><span style=\"color: #7f7f7f; text-decoration-color: #7f7f7f\">:</span><a href=\"file://C:\\Users\\andre\\AppData\\Roaming\\Python\\Python39\\site-packages\\manim\\scene\\scene_file_writer.py#514\" target=\"_blank\"><span style=\"color: #7f7f7f; text-decoration-color: #7f7f7f\">514</span></a>\n",
       "<span style=\"color: #7fbfbf; text-decoration-color: #7fbfbf\">                    </span>         <span style=\"color: #008000; text-decoration-color: #008000\">'E:\\andre\\Desktop\\testemanim\\media\\videos\\testemanim\\1080p60\\</span> <span style=\"color: #7f7f7f; text-decoration-color: #7f7f7f\">                        </span>\n",
       "<span style=\"color: #7fbfbf; text-decoration-color: #7fbfbf\">                    </span>         <span style=\"color: #008000; text-decoration-color: #008000\">partial_movie_files\\FullScene\\34786186_3795967205_394209650.m</span> <span style=\"color: #7f7f7f; text-decoration-color: #7f7f7f\">                        </span>\n",
       "<span style=\"color: #7fbfbf; text-decoration-color: #7fbfbf\">                    </span>         <span style=\"color: #008000; text-decoration-color: #008000\">p4'</span>                                                           <span style=\"color: #7f7f7f; text-decoration-color: #7f7f7f\">                        </span>\n",
       "</pre>\n"
      ],
      "text/plain": [
       "\u001b[2;36m[08/03/22 02:45:39]\u001b[0m\u001b[2;36m \u001b[0m\u001b[32mINFO    \u001b[0m Animation \u001b[32m34\u001b[0m : Partial movie file written in                  \u001b]8;id=962145;file://C:\\Users\\andre\\AppData\\Roaming\\Python\\Python39\\site-packages\\manim\\scene\\scene_file_writer.py\u001b\\\u001b[2mscene_file_writer.py\u001b[0m\u001b]8;;\u001b\\\u001b[2m:\u001b[0m\u001b]8;id=399451;file://C:\\Users\\andre\\AppData\\Roaming\\Python\\Python39\\site-packages\\manim\\scene\\scene_file_writer.py#514\u001b\\\u001b[2m514\u001b[0m\u001b]8;;\u001b\\\n",
       "\u001b[2;36m                    \u001b[0m         \u001b[32m'E:\\andre\\Desktop\\testemanim\\media\\videos\\testemanim\\1080p60\\\u001b[0m \u001b[2m                        \u001b[0m\n",
       "\u001b[2;36m                    \u001b[0m         \u001b[32mpartial_movie_files\\FullScene\\34786186_3795967205_394209650.m\u001b[0m \u001b[2m                        \u001b[0m\n",
       "\u001b[2;36m                    \u001b[0m         \u001b[32mp4'\u001b[0m                                                           \u001b[2m                        \u001b[0m\n"
      ]
     },
     "metadata": {},
     "output_type": "display_data"
    },
    {
     "data": {
      "text/html": [
       "<pre style=\"white-space:pre;overflow-x:auto;line-height:normal;font-family:Menlo,'DejaVu Sans Mono',consolas,'Courier New',monospace\"><span style=\"color: #7fbfbf; text-decoration-color: #7fbfbf\">[08/03/22 02:45:40] </span><span style=\"color: #008000; text-decoration-color: #008000\">INFO    </span> Animation <span style=\"color: #008000; text-decoration-color: #008000\">35</span> : Partial movie file written in                  <a href=\"file://C:\\Users\\andre\\AppData\\Roaming\\Python\\Python39\\site-packages\\manim\\scene\\scene_file_writer.py\" target=\"_blank\"><span style=\"color: #7f7f7f; text-decoration-color: #7f7f7f\">scene_file_writer.py</span></a><span style=\"color: #7f7f7f; text-decoration-color: #7f7f7f\">:</span><a href=\"file://C:\\Users\\andre\\AppData\\Roaming\\Python\\Python39\\site-packages\\manim\\scene\\scene_file_writer.py#514\" target=\"_blank\"><span style=\"color: #7f7f7f; text-decoration-color: #7f7f7f\">514</span></a>\n",
       "<span style=\"color: #7fbfbf; text-decoration-color: #7fbfbf\">                    </span>         <span style=\"color: #008000; text-decoration-color: #008000\">'E:\\andre\\Desktop\\testemanim\\media\\videos\\testemanim\\1080p60\\</span> <span style=\"color: #7f7f7f; text-decoration-color: #7f7f7f\">                        </span>\n",
       "<span style=\"color: #7fbfbf; text-decoration-color: #7fbfbf\">                    </span>         <span style=\"color: #008000; text-decoration-color: #008000\">partial_movie_files\\FullScene\\34786186_3073779459_1448835474.</span> <span style=\"color: #7f7f7f; text-decoration-color: #7f7f7f\">                        </span>\n",
       "<span style=\"color: #7fbfbf; text-decoration-color: #7fbfbf\">                    </span>         <span style=\"color: #008000; text-decoration-color: #008000\">mp4'</span>                                                          <span style=\"color: #7f7f7f; text-decoration-color: #7f7f7f\">                        </span>\n",
       "</pre>\n"
      ],
      "text/plain": [
       "\u001b[2;36m[08/03/22 02:45:40]\u001b[0m\u001b[2;36m \u001b[0m\u001b[32mINFO    \u001b[0m Animation \u001b[32m35\u001b[0m : Partial movie file written in                  \u001b]8;id=534888;file://C:\\Users\\andre\\AppData\\Roaming\\Python\\Python39\\site-packages\\manim\\scene\\scene_file_writer.py\u001b\\\u001b[2mscene_file_writer.py\u001b[0m\u001b]8;;\u001b\\\u001b[2m:\u001b[0m\u001b]8;id=355582;file://C:\\Users\\andre\\AppData\\Roaming\\Python\\Python39\\site-packages\\manim\\scene\\scene_file_writer.py#514\u001b\\\u001b[2m514\u001b[0m\u001b]8;;\u001b\\\n",
       "\u001b[2;36m                    \u001b[0m         \u001b[32m'E:\\andre\\Desktop\\testemanim\\media\\videos\\testemanim\\1080p60\\\u001b[0m \u001b[2m                        \u001b[0m\n",
       "\u001b[2;36m                    \u001b[0m         \u001b[32mpartial_movie_files\\FullScene\\34786186_3073779459_1448835474.\u001b[0m \u001b[2m                        \u001b[0m\n",
       "\u001b[2;36m                    \u001b[0m         \u001b[32mmp4'\u001b[0m                                                          \u001b[2m                        \u001b[0m\n"
      ]
     },
     "metadata": {},
     "output_type": "display_data"
    },
    {
     "data": {
      "text/html": [
       "<pre style=\"white-space:pre;overflow-x:auto;line-height:normal;font-family:Menlo,'DejaVu Sans Mono',consolas,'Courier New',monospace\"><span style=\"color: #7fbfbf; text-decoration-color: #7fbfbf\">                    </span><span style=\"color: #008000; text-decoration-color: #008000\">INFO    </span> Combining to Movie file.                                      <a href=\"file://C:\\Users\\andre\\AppData\\Roaming\\Python\\Python39\\site-packages\\manim\\scene\\scene_file_writer.py\" target=\"_blank\"><span style=\"color: #7f7f7f; text-decoration-color: #7f7f7f\">scene_file_writer.py</span></a><span style=\"color: #7f7f7f; text-decoration-color: #7f7f7f\">:</span><a href=\"file://C:\\Users\\andre\\AppData\\Roaming\\Python\\Python39\\site-packages\\manim\\scene\\scene_file_writer.py#607\" target=\"_blank\"><span style=\"color: #7f7f7f; text-decoration-color: #7f7f7f\">607</span></a>\n",
       "</pre>\n"
      ],
      "text/plain": [
       "\u001b[2;36m                   \u001b[0m\u001b[2;36m \u001b[0m\u001b[32mINFO    \u001b[0m Combining to Movie file.                                      \u001b]8;id=952389;file://C:\\Users\\andre\\AppData\\Roaming\\Python\\Python39\\site-packages\\manim\\scene\\scene_file_writer.py\u001b\\\u001b[2mscene_file_writer.py\u001b[0m\u001b]8;;\u001b\\\u001b[2m:\u001b[0m\u001b]8;id=722954;file://C:\\Users\\andre\\AppData\\Roaming\\Python\\Python39\\site-packages\\manim\\scene\\scene_file_writer.py#607\u001b\\\u001b[2m607\u001b[0m\u001b]8;;\u001b\\\n"
      ]
     },
     "metadata": {},
     "output_type": "display_data"
    },
    {
     "data": {
      "text/html": [
       "<pre style=\"white-space:pre;overflow-x:auto;line-height:normal;font-family:Menlo,'DejaVu Sans Mono',consolas,'Courier New',monospace\"><span style=\"color: #7fbfbf; text-decoration-color: #7fbfbf\">[08/03/22 02:45:41] </span><span style=\"color: #008000; text-decoration-color: #008000\">INFO    </span>                                                               <a href=\"file://C:\\Users\\andre\\AppData\\Roaming\\Python\\Python39\\site-packages\\manim\\scene\\scene_file_writer.py\" target=\"_blank\"><span style=\"color: #7f7f7f; text-decoration-color: #7f7f7f\">scene_file_writer.py</span></a><span style=\"color: #7f7f7f; text-decoration-color: #7f7f7f\">:</span><a href=\"file://C:\\Users\\andre\\AppData\\Roaming\\Python\\Python39\\site-packages\\manim\\scene\\scene_file_writer.py#728\" target=\"_blank\"><span style=\"color: #7f7f7f; text-decoration-color: #7f7f7f\">728</span></a>\n",
       "<span style=\"color: #7fbfbf; text-decoration-color: #7fbfbf\">                    </span>         <span style=\"color: #808000; text-decoration-color: #808000; font-weight: bold\">File</span> ready at                                                 <span style=\"color: #7f7f7f; text-decoration-color: #7f7f7f\">                        </span>\n",
       "<span style=\"color: #7fbfbf; text-decoration-color: #7fbfbf\">                    </span>         <span style=\"color: #008000; text-decoration-color: #008000\">'E:\\andre\\Desktop\\testemanim\\media\\videos\\testemanim\\1080p60\\</span> <span style=\"color: #7f7f7f; text-decoration-color: #7f7f7f\">                        </span>\n",
       "<span style=\"color: #7fbfbf; text-decoration-color: #7fbfbf\">                    </span>         <span style=\"color: #008000; text-decoration-color: #008000\">FullScene.mp4'</span>                                                <span style=\"color: #7f7f7f; text-decoration-color: #7f7f7f\">                        </span>\n",
       "<span style=\"color: #7fbfbf; text-decoration-color: #7fbfbf\">                    </span>                                                                       <span style=\"color: #7f7f7f; text-decoration-color: #7f7f7f\">                        </span>\n",
       "</pre>\n"
      ],
      "text/plain": [
       "\u001b[2;36m[08/03/22 02:45:41]\u001b[0m\u001b[2;36m \u001b[0m\u001b[32mINFO    \u001b[0m                                                               \u001b]8;id=133870;file://C:\\Users\\andre\\AppData\\Roaming\\Python\\Python39\\site-packages\\manim\\scene\\scene_file_writer.py\u001b\\\u001b[2mscene_file_writer.py\u001b[0m\u001b]8;;\u001b\\\u001b[2m:\u001b[0m\u001b]8;id=781209;file://C:\\Users\\andre\\AppData\\Roaming\\Python\\Python39\\site-packages\\manim\\scene\\scene_file_writer.py#728\u001b\\\u001b[2m728\u001b[0m\u001b]8;;\u001b\\\n",
       "\u001b[2;36m                    \u001b[0m         \u001b[1;33mFile\u001b[0m ready at                                                 \u001b[2m                        \u001b[0m\n",
       "\u001b[2;36m                    \u001b[0m         \u001b[32m'E:\\andre\\Desktop\\testemanim\\media\\videos\\testemanim\\1080p60\\\u001b[0m \u001b[2m                        \u001b[0m\n",
       "\u001b[2;36m                    \u001b[0m         \u001b[32mFullScene.mp4'\u001b[0m                                                \u001b[2m                        \u001b[0m\n",
       "\u001b[2;36m                    \u001b[0m                                                                       \u001b[2m                        \u001b[0m\n"
      ]
     },
     "metadata": {},
     "output_type": "display_data"
    },
    {
     "data": {
      "text/html": [
       "<pre style=\"white-space:pre;overflow-x:auto;line-height:normal;font-family:Menlo,'DejaVu Sans Mono',consolas,'Courier New',monospace\"><span style=\"color: #7fbfbf; text-decoration-color: #7fbfbf\">                    </span><span style=\"color: #008000; text-decoration-color: #008000\">INFO    </span> The partial movie directory is full <span style=\"font-weight: bold\">(</span>&gt; <span style=\"color: #008000; text-decoration-color: #008000\">100</span> files<span style=\"font-weight: bold\">)</span>. Therefore, <a href=\"file://C:\\Users\\andre\\AppData\\Roaming\\Python\\Python39\\site-packages\\manim\\scene\\scene_file_writer.py\" target=\"_blank\"><span style=\"color: #7f7f7f; text-decoration-color: #7f7f7f\">scene_file_writer.py</span></a><span style=\"color: #7f7f7f; text-decoration-color: #7f7f7f\">:</span><a href=\"file://C:\\Users\\andre\\AppData\\Roaming\\Python\\Python39\\site-packages\\manim\\scene\\scene_file_writer.py#699\" target=\"_blank\"><span style=\"color: #7f7f7f; text-decoration-color: #7f7f7f\">699</span></a>\n",
       "<span style=\"color: #7fbfbf; text-decoration-color: #7fbfbf\">                    </span>         manim has removed the <span style=\"color: #008000; text-decoration-color: #008000\">18</span> oldest <span style=\"color: #800080; text-decoration-color: #800080; font-weight: bold\">file</span><span style=\"font-weight: bold\">(</span>s<span style=\"font-weight: bold\">)</span>. You can change this  <span style=\"color: #7f7f7f; text-decoration-color: #7f7f7f\">                        </span>\n",
       "<span style=\"color: #7fbfbf; text-decoration-color: #7fbfbf\">                    </span>         behaviour by changing max_files_cached in config.             <span style=\"color: #7f7f7f; text-decoration-color: #7f7f7f\">                        </span>\n",
       "</pre>\n"
      ],
      "text/plain": [
       "\u001b[2;36m                   \u001b[0m\u001b[2;36m \u001b[0m\u001b[32mINFO    \u001b[0m The partial movie directory is full \u001b[1m(\u001b[0m> \u001b[32m100\u001b[0m files\u001b[1m)\u001b[0m. Therefore, \u001b]8;id=730116;file://C:\\Users\\andre\\AppData\\Roaming\\Python\\Python39\\site-packages\\manim\\scene\\scene_file_writer.py\u001b\\\u001b[2mscene_file_writer.py\u001b[0m\u001b]8;;\u001b\\\u001b[2m:\u001b[0m\u001b]8;id=553663;file://C:\\Users\\andre\\AppData\\Roaming\\Python\\Python39\\site-packages\\manim\\scene\\scene_file_writer.py#699\u001b\\\u001b[2m699\u001b[0m\u001b]8;;\u001b\\\n",
       "\u001b[2;36m                    \u001b[0m         manim has removed the \u001b[32m18\u001b[0m oldest \u001b[1;35mfile\u001b[0m\u001b[1m(\u001b[0ms\u001b[1m)\u001b[0m. You can change this  \u001b[2m                        \u001b[0m\n",
       "\u001b[2;36m                    \u001b[0m         behaviour by changing max_files_cached in config.             \u001b[2m                        \u001b[0m\n"
      ]
     },
     "metadata": {},
     "output_type": "display_data"
    },
    {
     "data": {
      "text/html": [
       "<pre style=\"white-space:pre;overflow-x:auto;line-height:normal;font-family:Menlo,'DejaVu Sans Mono',consolas,'Courier New',monospace\"><span style=\"color: #7fbfbf; text-decoration-color: #7fbfbf\">                    </span><span style=\"color: #008000; text-decoration-color: #008000\">INFO    </span> <span style=\"color: #808000; text-decoration-color: #808000; font-weight: bold\">Rendered</span> FullScene                                                        <a href=\"file://C:\\Users\\andre\\AppData\\Roaming\\Python\\Python39\\site-packages\\manim\\scene\\scene.py\" target=\"_blank\"><span style=\"color: #7f7f7f; text-decoration-color: #7f7f7f\">scene.py</span></a><span style=\"color: #7f7f7f; text-decoration-color: #7f7f7f\">:</span><a href=\"file://C:\\Users\\andre\\AppData\\Roaming\\Python\\Python39\\site-packages\\manim\\scene\\scene.py#240\" target=\"_blank\"><span style=\"color: #7f7f7f; text-decoration-color: #7f7f7f\">240</span></a>\n",
       "<span style=\"color: #7fbfbf; text-decoration-color: #7fbfbf\">                    </span>         <span style=\"color: #808000; text-decoration-color: #808000; font-weight: bold\">Played</span> <span style=\"color: #008000; text-decoration-color: #008000\">36</span> <span style=\"color: #808000; text-decoration-color: #808000; font-weight: bold\">animations</span>                                                      <span style=\"color: #7f7f7f; text-decoration-color: #7f7f7f\">            </span>\n",
       "</pre>\n"
      ],
      "text/plain": [
       "\u001b[2;36m                   \u001b[0m\u001b[2;36m \u001b[0m\u001b[32mINFO    \u001b[0m \u001b[1;33mRendered\u001b[0m FullScene                                                        \u001b]8;id=11760;file://C:\\Users\\andre\\AppData\\Roaming\\Python\\Python39\\site-packages\\manim\\scene\\scene.py\u001b\\\u001b[2mscene.py\u001b[0m\u001b]8;;\u001b\\\u001b[2m:\u001b[0m\u001b]8;id=790254;file://C:\\Users\\andre\\AppData\\Roaming\\Python\\Python39\\site-packages\\manim\\scene\\scene.py#240\u001b\\\u001b[2m240\u001b[0m\u001b]8;;\u001b\\\n",
       "\u001b[2;36m                    \u001b[0m         \u001b[1;33mPlayed\u001b[0m \u001b[32m36\u001b[0m \u001b[1;33manimations\u001b[0m                                                      \u001b[2m            \u001b[0m\n"
      ]
     },
     "metadata": {},
     "output_type": "display_data"
    },
    {
     "data": {
      "text/html": [
       "<video src=\"media\\jupyter\\FullScene@2022-08-03@02-45-41.mp4\" controls autoplay loop style=\"max-width: 60%;\"  >\n",
       "      Your browser does not support the <code>video</code> element.\n",
       "    </video>"
      ],
      "text/plain": [
       "<IPython.core.display.Video object>"
      ]
     },
     "metadata": {},
     "output_type": "display_data"
    }
   ],
   "source": [
    "%%manim -qh FullScene\n",
    "\n",
    "class Scene1(Scene):\n",
    "    def construct(self):\n",
    "        txt1 = Text(\"Aqui é o Xornotor\",\n",
    "                    font='Iosevka Term',\n",
    "                    t2c={\"Xornotor\": GREEN_C})\n",
    "        self.play(Write(txt1))\n",
    "        self.wait(1)\n",
    "        self.play(FadeOut(txt1))\n",
    "\n",
    "class Scene2(Scene):\n",
    "    def construct(self):\n",
    "        txt2 = Text(\"E esta é minha\\nprimeira animação em Manim!\", font='Iosevka Term')\n",
    "        self.play(Write(txt2))\n",
    "        self.wait(1)\n",
    "        self.play(txt2.animate.shift(UP), run_time=1)\n",
    "        circle = Circle(color=RED)\n",
    "        circle.set_fill(RED_B, opacity=0.6)\n",
    "        circle.next_to(txt2, DOWN, buff=0.5)\n",
    "        triangle = Triangle(color=GREEN)\n",
    "        triangle.set_fill(GREEN_C, opacity=0.6)\n",
    "        triangle.next_to(circle, LEFT, buff=0.5)\n",
    "        square = Square(color=PINK)\n",
    "        square.set_fill(LIGHT_PINK, opacity=0.6)\n",
    "        square.next_to(circle, RIGHT, buff=0.5)\n",
    "        self.play(Create(circle), Create(triangle), Create(square))\n",
    "        self.wait(3)\n",
    "        self.play(FadeOut(txt2), FadeOut(circle), FadeOut(triangle), FadeOut(square))\n",
    "\n",
    "class Scene3(Scene):\n",
    "    def construct(self):\n",
    "        code = \"\"\"from manim import *\n",
    "\n",
    "print(\"Esta animação foi feita\")\n",
    "print(\"inteiramente em Python\")\n",
    "print(\"utilizando a biblioteca Manim!\")\n",
    "                    \"\"\"\n",
    "        rendered_code = Code(code=code, background_stroke_color=WHITE, tab_width=2, background='window', language=\"Python\", font='Monospace')\n",
    "        rendered_code[2].set_color(YELLOW)\n",
    "        code_text = Text(\"Esta animação foi feita\\ninteiramente em Python\\nutilizando a biblioteca Manim!\",\n",
    "                    font=\"Iosevka Term\",\n",
    "                    font_size=26)\n",
    "        code_text.next_to(rendered_code, DOWN, buff=0.4)\n",
    "        self.play(Create(rendered_code))\n",
    "        self.play(rendered_code.animate.shift(UP), run_time=1)\n",
    "        self.play(Write(code_text))\n",
    "        self.wait(5)\n",
    "        self.play(FadeOut(rendered_code), FadeOut(code_text))\n",
    "\n",
    "class Scene4(Scene):\n",
    "    def construct(self):\n",
    "        formula = MathTex(\"\\pi^{2} = 9.86960440109\")\n",
    "        self.play(Write(formula))\n",
    "        self.play(formula.animate.shift(UP), run_time=1)\n",
    "        texto_formula = Tex(\"Aqui, estou usando {\\LaTeX}\")\n",
    "        texto_formula.next_to(formula, DOWN, buff=0.4)\n",
    "        texto_formula_2 = Tex(\"{\\LaTeX} me abre muitas possibilidades\")\n",
    "        texto_formula_2.next_to(texto_formula, DOWN, buff=0.4)\n",
    "        self.play(Write(texto_formula))\n",
    "        self.play(Write(texto_formula_2))\n",
    "        self.wait(5)\n",
    "        self.play(FadeOut(formula), FadeOut(texto_formula), FadeOut(texto_formula_2))\n",
    "\n",
    "class Scene5(Scene):\n",
    "    def construct(self):\n",
    "        texto_ltx = Tex(\"Com {\\LaTeX}, consigo escrever fórmulas:\")\n",
    "        formula_ltx = MathTex(\"J(\\\\vec{w}, b) = \\\\frac{1}{m} \\\\sum_{i = 1}^{m} \\\\text{L}(f_{\\\\vec{w}, b}(x^{(i)}), y^{(i)})\")\n",
    "        formula_ltx.next_to(texto_ltx, DOWN, buff = 0.2)\n",
    "        self.play(Write(texto_ltx))\n",
    "        self.play(texto_ltx.animate.shift(UP), run_time=1)\n",
    "        self.play(Write(formula_ltx))\n",
    "        self.wait(5)\n",
    "        self.play(FadeOut(texto_ltx), FadeOut(formula_ltx))\n",
    "\n",
    "class Scene6(Scene):\n",
    "    def construct(self):\n",
    "        template = TexTemplate()\n",
    "        template.add_to_preamble(r\"\\usepackage[siunitx, RPvoltages, american]{circuitikz}\")\n",
    "        texto_circ = Tex(\"Ou até mesmo desenhar circuitos.\")\n",
    "        circ = MathTex(\n",
    "            r\"\"\"\\draw (0,0) to[isource, l=$I_0$, v=$V_0$] (0,3);\"\"\", \n",
    "            r\"\"\"\\draw (0,3) to[short, -*] (2,3);\"\"\",\n",
    "            r\"\"\"\\draw (2,3) to[R=$R_1$, i>_=$I_1$] (2,0);\"\"\",\n",
    "            r\"\"\"\\draw (2,3) -- (4,3);\"\"\", \n",
    "            r\"\\draw (4,3) to[R=$R_2$, i>_=$I_2$] (4,0);\",\n",
    "            r\"\\draw (4,0) to[short, -*] (2,0)--(0,0);\"\n",
    "            , stroke_width=3\n",
    "            , fill_opacity=0\n",
    "            , stroke_opacity=1\n",
    "            , tex_environment=\"circuitikz\"\n",
    "            , tex_template=template\n",
    "            \n",
    "            )\n",
    "        #circ.next_to(texto_circ, DOWN, buff = 0.1)\n",
    "        self.play(Write(texto_circ))\n",
    "        self.wait(3)\n",
    "        self.play(Transform(texto_circ, circ))\n",
    "        self.wait(5)\n",
    "        texto_fim = Text(\"Espero fazer bom uso do Manim!\", font='Iosevka Term')\n",
    "        self.play(Transform(texto_circ, texto_fim))\n",
    "        self.wait(3)\n",
    "        self.play(FadeOut(texto_circ))\n",
    "\n",
    "class Scene7(Scene):\n",
    "    def construct(self):\n",
    "        adeus = Text(\"Até a próxima!\", font='Iosevka Term')\n",
    "        self.play(Write(adeus))\n",
    "        self.wait(2)\n",
    "        self.play(FadeOut(adeus))\n",
    "\n",
    "class EndScene(Scene):\n",
    "    def construct(self):\n",
    "        self.wait(3)\n",
    "\n",
    "class FullScene(Scene):\n",
    "    def construct(self):\n",
    "        Scene1.construct(self)\n",
    "        Scene2.construct(self)\n",
    "        Scene3.construct(self)\n",
    "        Scene4.construct(self)\n",
    "        Scene5.construct(self)\n",
    "        Scene6.construct(self)\n",
    "        Scene7.construct(self)\n",
    "        EndScene.construct(self)\n"
   ]
  }
 ],
 "metadata": {
  "kernelspec": {
   "display_name": "Python 3.9.12 ('base')",
   "language": "python",
   "name": "python3"
  },
  "language_info": {
   "codemirror_mode": {
    "name": "ipython",
    "version": 3
   },
   "file_extension": ".py",
   "mimetype": "text/x-python",
   "name": "python",
   "nbconvert_exporter": "python",
   "pygments_lexer": "ipython3",
   "version": "3.9.12"
  },
  "orig_nbformat": 4,
  "vscode": {
   "interpreter": {
    "hash": "427b8541cfc07e6fbe7ab4a5298567b1b3022ff2b70fdb07d029f33f0434686a"
   }
  }
 },
 "nbformat": 4,
 "nbformat_minor": 2
}
